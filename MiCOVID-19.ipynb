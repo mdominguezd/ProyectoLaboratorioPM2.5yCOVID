{
 "cells": [
  {
   "cell_type": "code",
   "execution_count": 566,
   "metadata": {},
   "outputs": [],
   "source": [
    "import pandas as pd\n",
    "import numpy as np\n",
    "import seaborn as sns\n",
    "import matplotlib.pyplot as plt\n",
    "from scipy.optimize import curve_fit\n",
    "from datetime import date\n",
    "from datetime import datetime\n",
    "import scipy.stats"
   ]
  },
  {
   "cell_type": "markdown",
   "metadata": {},
   "source": [
    "# Lectura de datos de COVID-19"
   ]
  },
  {
   "cell_type": "code",
   "execution_count": 567,
   "metadata": {},
   "outputs": [],
   "source": [
    "# Lectura de datos\n",
    "DataSource='https://raw.githubusercontent.com/CSSEGISandData/COVID-19/'\n",
    "DataFileDUS='master/csse_covid_19_data/csse_covid_19_time_series/time_series_covid19_deaths_US.csv' #Muertes en Estados unidos\n",
    "DataFileCUS='master/csse_covid_19_data/csse_covid_19_time_series/time_series_covid19_confirmed_US.csv' #Casos confirmados en estados unidos\n",
    "\n",
    "cvaDUS = pd.read_csv('{}{}'.format(DataSource,DataFileDUS))\n",
    "cvaCUS = pd.read_csv('{}{}'.format(DataSource,DataFileCUS))"
   ]
  },
  {
   "cell_type": "code",
   "execution_count": 568,
   "metadata": {},
   "outputs": [
    {
     "data": {
      "text/plain": [
       "'5/18/20'"
      ]
     },
     "execution_count": 568,
     "metadata": {},
     "output_type": "execute_result"
    }
   ],
   "source": [
    "# Obtencion de fecha del día de ayer para iniciar análisis con datos del último día\n",
    "d = date.today()\n",
    "AYER = str(d.month)+'/'+str(d.day-1)+'/'+str(d.year)[-2:]\n",
    "AYER"
   ]
  },
  {
   "cell_type": "code",
   "execution_count": 569,
   "metadata": {},
   "outputs": [
    {
     "name": "stdout",
     "output_type": "stream",
     "text": [
      "Casos hasta ayer en USA: 1508308 \n",
      "Muertes hasta ayer en USA: 90347\n"
     ]
    }
   ],
   "source": [
    "# Datos provistos por CSSE de la universidad de Johns Hopkins\n",
    "print('Casos hasta ayer en USA:',cvaCUS[AYER].sum(),'\\nMuertes hasta ayer en USA:',cvaDUS[AYER].sum())"
   ]
  },
  {
   "cell_type": "markdown",
   "metadata": {},
   "source": [
    "# Limpieza de datos de COVID-19"
   ]
  },
  {
   "cell_type": "code",
   "execution_count": 570,
   "metadata": {},
   "outputs": [
    {
     "name": "stdout",
     "output_type": "stream",
     "text": [
      "Casos sin asignar que se eliminaron:\n",
      "CASOS      5766\n",
      "MUERTES     990\n",
      "dtype: int64\n"
     ]
    },
    {
     "data": {
      "text/html": [
       "<div>\n",
       "<style scoped>\n",
       "    .dataframe tbody tr th:only-of-type {\n",
       "        vertical-align: middle;\n",
       "    }\n",
       "\n",
       "    .dataframe tbody tr th {\n",
       "        vertical-align: top;\n",
       "    }\n",
       "\n",
       "    .dataframe thead th {\n",
       "        text-align: right;\n",
       "    }\n",
       "</style>\n",
       "<table border=\"1\" class=\"dataframe\">\n",
       "  <thead>\n",
       "    <tr style=\"text-align: right;\">\n",
       "      <th></th>\n",
       "      <th></th>\n",
       "      <th></th>\n",
       "      <th>CASOS</th>\n",
       "      <th>MUERTES</th>\n",
       "    </tr>\n",
       "    <tr>\n",
       "      <th>Estado</th>\n",
       "      <th>Condado</th>\n",
       "      <th>FIPS</th>\n",
       "      <th></th>\n",
       "      <th></th>\n",
       "    </tr>\n",
       "  </thead>\n",
       "  <tbody>\n",
       "    <tr>\n",
       "      <th rowspan=\"5\" valign=\"top\">Alabama</th>\n",
       "      <th>Autauga</th>\n",
       "      <th>1001.0</th>\n",
       "      <td>120</td>\n",
       "      <td>4</td>\n",
       "    </tr>\n",
       "    <tr>\n",
       "      <th>Baldwin</th>\n",
       "      <th>1003.0</th>\n",
       "      <td>260</td>\n",
       "      <td>8</td>\n",
       "    </tr>\n",
       "    <tr>\n",
       "      <th>Barbour</th>\n",
       "      <th>1005.0</th>\n",
       "      <td>85</td>\n",
       "      <td>1</td>\n",
       "    </tr>\n",
       "    <tr>\n",
       "      <th>Bibb</th>\n",
       "      <th>1007.0</th>\n",
       "      <td>50</td>\n",
       "      <td>1</td>\n",
       "    </tr>\n",
       "    <tr>\n",
       "      <th>Blount</th>\n",
       "      <th>1009.0</th>\n",
       "      <td>47</td>\n",
       "      <td>1</td>\n",
       "    </tr>\n",
       "    <tr>\n",
       "      <th>...</th>\n",
       "      <th>...</th>\n",
       "      <th>...</th>\n",
       "      <td>...</td>\n",
       "      <td>...</td>\n",
       "    </tr>\n",
       "    <tr>\n",
       "      <th>Virginia</th>\n",
       "      <th>Out of VA</th>\n",
       "      <th>80051.0</th>\n",
       "      <td>0</td>\n",
       "      <td>0</td>\n",
       "    </tr>\n",
       "    <tr>\n",
       "      <th>Washington</th>\n",
       "      <th>Out of WA</th>\n",
       "      <th>80053.0</th>\n",
       "      <td>0</td>\n",
       "      <td>0</td>\n",
       "    </tr>\n",
       "    <tr>\n",
       "      <th>West Virginia</th>\n",
       "      <th>Out of WV</th>\n",
       "      <th>80054.0</th>\n",
       "      <td>0</td>\n",
       "      <td>0</td>\n",
       "    </tr>\n",
       "    <tr>\n",
       "      <th>Wisconsin</th>\n",
       "      <th>Out of WI</th>\n",
       "      <th>80055.0</th>\n",
       "      <td>0</td>\n",
       "      <td>0</td>\n",
       "    </tr>\n",
       "    <tr>\n",
       "      <th>Wyoming</th>\n",
       "      <th>Out of WY</th>\n",
       "      <th>80056.0</th>\n",
       "      <td>0</td>\n",
       "      <td>0</td>\n",
       "    </tr>\n",
       "  </tbody>\n",
       "</table>\n",
       "<p>3193 rows × 2 columns</p>\n",
       "</div>"
      ],
      "text/plain": [
       "                                 CASOS  MUERTES\n",
       "Estado        Condado   FIPS                   \n",
       "Alabama       Autauga   1001.0     120        4\n",
       "              Baldwin   1003.0     260        8\n",
       "              Barbour   1005.0      85        1\n",
       "              Bibb      1007.0      50        1\n",
       "              Blount    1009.0      47        1\n",
       "...                                ...      ...\n",
       "Virginia      Out of VA 80051.0      0        0\n",
       "Washington    Out of WA 80053.0      0        0\n",
       "West Virginia Out of WV 80054.0      0        0\n",
       "Wisconsin     Out of WI 80055.0      0        0\n",
       "Wyoming       Out of WY 80056.0      0        0\n",
       "\n",
       "[3193 rows x 2 columns]"
      ]
     },
     "execution_count": 570,
     "metadata": {},
     "output_type": "execute_result"
    }
   ],
   "source": [
    "# Limpieza de datos para obtenes solo casos dentro de estados federales \n",
    "COVCases = pd.DataFrame(cvaCUS.dropna().set_index(['Province_State','Admin2','FIPS'])[AYER])\n",
    "COVCases.columns = ['CASOS']\n",
    "\n",
    "COVDeaths = pd.DataFrame(cvaDUS.dropna().set_index(['Province_State','Admin2','FIPS'])[AYER])\n",
    "COVDeaths.columns = ['MUERTES']\n",
    "\n",
    "# Eliminar datos que categorizados como 'Unassigned'\n",
    "COV = pd.merge(COVCases, COVDeaths, how = 'inner', left_index=True, right_index=True)\n",
    "print('Casos sin asignar que se eliminaron:\\n'+str(COV.xs('Unassigned', level='Admin2').sum()))\n",
    "COV = COV.drop('Unassigned', level='Admin2')\n",
    "COV.index.names = ['Estado', 'Condado','FIPS']\n",
    "COV"
   ]
  },
  {
   "cell_type": "markdown",
   "metadata": {},
   "source": [
    "# Cálculo de Mortalidad\n",
    "$$ Mortalidad = \\frac{Muertes}{Casos}  $$"
   ]
  },
  {
   "cell_type": "code",
   "execution_count": 571,
   "metadata": {},
   "outputs": [
    {
     "data": {
      "text/html": [
       "<div>\n",
       "<style scoped>\n",
       "    .dataframe tbody tr th:only-of-type {\n",
       "        vertical-align: middle;\n",
       "    }\n",
       "\n",
       "    .dataframe tbody tr th {\n",
       "        vertical-align: top;\n",
       "    }\n",
       "\n",
       "    .dataframe thead th {\n",
       "        text-align: right;\n",
       "    }\n",
       "</style>\n",
       "<table border=\"1\" class=\"dataframe\">\n",
       "  <thead>\n",
       "    <tr style=\"text-align: right;\">\n",
       "      <th></th>\n",
       "      <th>Estado</th>\n",
       "      <th>Condado</th>\n",
       "      <th>FIPS</th>\n",
       "      <th>CASOS</th>\n",
       "      <th>MUERTES</th>\n",
       "      <th>MORTALIDAD</th>\n",
       "    </tr>\n",
       "  </thead>\n",
       "  <tbody>\n",
       "    <tr>\n",
       "      <th>0</th>\n",
       "      <td>Alabama</td>\n",
       "      <td>Autauga</td>\n",
       "      <td>1001.0</td>\n",
       "      <td>120</td>\n",
       "      <td>4</td>\n",
       "      <td>0.033333</td>\n",
       "    </tr>\n",
       "    <tr>\n",
       "      <th>1</th>\n",
       "      <td>Alabama</td>\n",
       "      <td>Baldwin</td>\n",
       "      <td>1003.0</td>\n",
       "      <td>260</td>\n",
       "      <td>8</td>\n",
       "      <td>0.030769</td>\n",
       "    </tr>\n",
       "    <tr>\n",
       "      <th>2</th>\n",
       "      <td>Alabama</td>\n",
       "      <td>Barbour</td>\n",
       "      <td>1005.0</td>\n",
       "      <td>85</td>\n",
       "      <td>1</td>\n",
       "      <td>0.011765</td>\n",
       "    </tr>\n",
       "    <tr>\n",
       "      <th>3</th>\n",
       "      <td>Alabama</td>\n",
       "      <td>Bibb</td>\n",
       "      <td>1007.0</td>\n",
       "      <td>50</td>\n",
       "      <td>1</td>\n",
       "      <td>0.020000</td>\n",
       "    </tr>\n",
       "    <tr>\n",
       "      <th>4</th>\n",
       "      <td>Alabama</td>\n",
       "      <td>Blount</td>\n",
       "      <td>1009.0</td>\n",
       "      <td>47</td>\n",
       "      <td>1</td>\n",
       "      <td>0.021277</td>\n",
       "    </tr>\n",
       "  </tbody>\n",
       "</table>\n",
       "</div>"
      ],
      "text/plain": [
       "    Estado  Condado    FIPS  CASOS  MUERTES  MORTALIDAD\n",
       "0  Alabama  Autauga  1001.0    120        4    0.033333\n",
       "1  Alabama  Baldwin  1003.0    260        8    0.030769\n",
       "2  Alabama  Barbour  1005.0     85        1    0.011765\n",
       "3  Alabama     Bibb  1007.0     50        1    0.020000\n",
       "4  Alabama   Blount  1009.0     47        1    0.021277"
      ]
     },
     "execution_count": 571,
     "metadata": {},
     "output_type": "execute_result"
    }
   ],
   "source": [
    "COV['MORTALIDAD'] = COV['MUERTES']/COV['CASOS']\n",
    "COV.head()\n",
    "COV = COV.reset_index()\n",
    "COV.head()"
   ]
  },
  {
   "cell_type": "markdown",
   "metadata": {},
   "source": [
    "# Lectura de datos de PM2.5\n",
    "Fuente: EPA\n",
    "#### ESTE ES EL PASO  MAS LARGO"
   ]
  },
  {
   "cell_type": "code",
   "execution_count": 572,
   "metadata": {},
   "outputs": [],
   "source": [
    "Directorio = 'DatosPM2.5/'\n",
    "almacenarVar = False\n",
    "\n",
    "\n",
    "PM25 = pd.DataFrame()\n",
    "for i in range(51):\n",
    "    #Lectura para datos promedios mensuales para cada condado\n",
    "    PMC = (pd.read_csv(Directorio+'ad_viz_plotval_data ('+str(i+1)+').csv')\n",
    "                                   .set_index(['STATE','COUNTY'])[['Date','Daily Mean PM2.5 Concentration','DAILY_AQI_VALUE','Site ID']]\n",
    "                                   .apply(lambda df : pd.Series({'FIPS':str(df['Site ID'])[:-4],'Año':int(df['Date'][-2:]),'Mes': int(df['Date'][0:2]),'Date':df.Date,'PM 2.5':df['Daily Mean PM2.5 Concentration'],'AQI':df.DAILY_AQI_VALUE}),axis = 1)\n",
    "                                   .groupby(['STATE','COUNTY','Mes','Año','FIPS'])\n",
    "                                   .mean())\n",
    "    \n",
    "    PMC19 = (pd.read_csv(Directorio+'ad_viz_plotval_data ('+str(i+1)+')2019.csv')\n",
    "                                   .set_index(['STATE','COUNTY'])[['Date','Daily Mean PM2.5 Concentration','DAILY_AQI_VALUE','Site ID']]\n",
    "                                   .apply(lambda df : pd.Series({'FIPS':str(df['Site ID'])[:-4],'Año':int(df['Date'][-2:]),'Mes': int(df['Date'][0:2]),'Date':df.Date,'PM 2.5':df['Daily Mean PM2.5 Concentration'],'AQI':df.DAILY_AQI_VALUE}),axis = 1)\n",
    "                                   .groupby(['STATE','COUNTY','Mes','Año','FIPS'])\n",
    "                                   .mean())\n",
    "    # Paso opcional por si se quiere almacenar en variables diferentes cada información por estado\n",
    "    if almacenarVar:\n",
    "        estado = str(PMC.index[0][0])\n",
    "        estado = estado.split()\n",
    "        if len(estado)>1:\n",
    "            estado = [estado[0]+'_'+estado[1]]\n",
    "        estado = estado[0]\n",
    "        globals()['PM_%s'%estado]=PMC\n",
    "    \n",
    "    PM25 = PM25.append(PMC)\n",
    "    PM25 = PM25.append(PMC19)\n",
    "    \n",
    "PM25 = PM25.reset_index()\n",
    "PM25.FIPS = pd.to_numeric(PM25.FIPS)"
   ]
  },
  {
   "cell_type": "markdown",
   "metadata": {},
   "source": [
    "# Unión de datos de COVID y PM2.5PM25Historico"
   ]
  },
  {
   "cell_type": "code",
   "execution_count": 573,
   "metadata": {},
   "outputs": [
    {
     "name": "stdout",
     "output_type": "stream",
     "text": [
      "Cantidad de observaciones = 11475\n",
      "Cantidad de condados con observaciones = 611\n",
      "                   FIPS  CASOS  MUERTES  MORTALIDAD  Mes  Año  PM 2.5     AQI\n",
      "Estado  Condado                                                              \n",
      "Alabama Baldwin  1003.0    260        8    0.030769    1   19  6.8250  28.375\n",
      "        Baldwin  1003.0    260        8    0.030769    2   19  6.8375  28.500\n",
      "        Baldwin  1003.0    260        8    0.030769    3   19  7.5300  31.300\n",
      "        Baldwin  1003.0    260        8    0.030769    4   19  6.2750  26.250\n",
      "        Baldwin  1003.0    260        8    0.030769    5   19  6.5875  27.500\n"
     ]
    }
   ],
   "source": [
    "COVyPM25 = pd.merge(COV, PM25, how='inner', left_on=['Estado','Condado','FIPS'], right_on=['STATE', 'COUNTY','FIPS']).set_index(['Estado','Condado']).drop(['STATE','COUNTY'], axis=1)\n",
    "\n",
    "TakeNAas0 = True\n",
    "\n",
    "if TakeNAas0:\n",
    "    COVyPM25[np.isnan(COVyPM25['MORTALIDAD'])]=0 #Reemplazo valores en donde no hay ni casos ni muertes como mortalidad = 0\n",
    "else:\n",
    "    COVyPM25.dropna(inplace=True)\n",
    "\n",
    "print('Cantidad de observaciones =',len(COVyPM25))\n",
    "print('Cantidad de condados con observaciones =', len(COVyPM25.groupby('Condado').mean()))\n",
    "\n",
    "print(COVyPM25.head())\n",
    "\n",
    "R6 = COVyPM25[((COVyPM25.Mes <= 3) & (COVyPM25['Año'] == 20))|((COVyPM25.Mes > 9) & (COVyPM25['Año'] == 19))].reset_index().groupby(['Estado','Condado']).mean()\n",
    "\n",
    "S = []\n",
    "C = []\n",
    "\n",
    "for i in R6.index:\n",
    "    S.append(i[0])\n",
    "    C.append(i[1])\n",
    "\n",
    "R6 = R6.reset_index()\n",
    "\n",
    "R6.to_excel('ResultadosSemestral'+str(date.today())+'.xlsx')\n",
    "\n",
    "R3 = COVyPM25[((COVyPM25.Mes <= 3) & (COVyPM25['Año'] == 20))].reset_index().groupby(['Estado','Condado']).mean()\n",
    "\n",
    "S = []\n",
    "C = []\n",
    "\n",
    "for i in R3.index:\n",
    "    S.append(i[0])\n",
    "    C.append(i[1])\n",
    "\n",
    "R3 = R3.reset_index()\n",
    "\n",
    "R3.to_excel('ResultadosTrimestral'+str(date.today())+'.xlsx')"
   ]
  },
  {
   "cell_type": "markdown",
   "metadata": {},
   "source": [
    "# Obtención de matrices de correlación"
   ]
  },
  {
   "cell_type": "code",
   "execution_count": 574,
   "metadata": {},
   "outputs": [
    {
     "name": "stdout",
     "output_type": "stream",
     "text": [
      "KendalltauResult(correlation=0.11942052589129235, pvalue=1.921782240642024e-05)\n",
      "SpearmanrResult(correlation=0.1780248332095784, pvalue=1.3624222010749157e-05)\n",
      "KendalltauResult(correlation=0.16848844678868102, pvalue=2.6609633204150745e-09)\n",
      "SpearmanrResult(correlation=0.24462022403785869, pvalue=2.8788696888630407e-09)\n",
      "KendalltauResult(correlation=0.16373774393129625, pvalue=1.5307281061268738e-08)\n",
      "SpearmanrResult(correlation=0.24742570673630562, pvalue=3.944599400444091e-09)\n",
      "KendalltauResult(correlation=0.11322111081664836, pvalue=1.996703762784683e-05)\n",
      "SpearmanrResult(correlation=0.1712955559042482, pvalue=1.0102839589883742e-05)\n",
      "KendalltauResult(correlation=0.1298213670237399, pvalue=9.65402965831383e-07)\n",
      "SpearmanrResult(correlation=0.19444519577170913, pvalue=4.89934331266273e-07)\n",
      "KendalltauResult(correlation=0.14401386991684387, pvalue=5.605037759769277e-08)\n",
      "SpearmanrResult(correlation=0.21014425057655414, pvalue=5.29408408091362e-08)\n"
     ]
    },
    {
     "data": {
      "image/png": "[encoded data removed]",
      "text/plain": [
       "<Figure size 2448x1224 with 16 Axes>"
      ]
     },
     "metadata": {
      "needs_background": "light"
     },
     "output_type": "display_data"
    }
   ],
   "source": [
    "fig = plt.figure(figsize=(34,17))\n",
    "\n",
    "\n",
    "\n",
    "plt.suptitle('Matrices de correlación', fontsize=20)\n",
    "\n",
    "for i in range(3):\n",
    "    plt.subplot(2,4,i+4)\n",
    "    \n",
    "    # Obtencion R Pearson y P-Value\n",
    "    R, PVal = scipy.stats.pearsonr(COVyPM25[(COVyPM25.Mes == i+1)&(COVyPM25['Año'] == 20)]['MORTALIDAD'],COVyPM25[(COVyPM25.Mes == i+1)&(COVyPM25['Año'] == 20)]['PM 2.5']) \n",
    "    print(scipy.stats.kendalltau(COVyPM25[(COVyPM25.Mes == i+1)&(COVyPM25['Año'] == 20)]['MORTALIDAD'],COVyPM25[(COVyPM25.Mes == i+1)&(COVyPM25['Año'] == 20)]['PM 2.5']))\n",
    "    print(scipy.stats.spearmanr(COVyPM25[(COVyPM25.Mes == i+1)&(COVyPM25['Año'] == 20)]['MORTALIDAD'],COVyPM25[(COVyPM25.Mes == i+1)&(COVyPM25['Año'] == 20)]['PM 2.5']))\n",
    "    \n",
    "    # Matriz de correlacion mes i\n",
    "    (sns.heatmap(\n",
    "        COVyPM25[(COVyPM25.Mes == i+1)&(COVyPM25['Año'] == 20)]\n",
    "        .drop(['Mes','Año','CASOS','MUERTES'],axis=1)\n",
    "        .corr(),\n",
    "        cmap = 'seismic',\n",
    "        center=0))\n",
    "    plt.title('Concentraciones en mes 0'+str(i+1)+'\\n R= '+str(round(R,4))+' $P_{Value}$= '+str(round(PVal,4))+'\\n#Obs = '+ str(len(COVyPM25[(COVyPM25.Mes == i+1)&(COVyPM25['Año'] == 20)])))\n",
    "    \n",
    "for i in range(10,13):\n",
    "    plt.subplot(2,4,i-9)\n",
    "    \n",
    "    # Obtencion R Pearson y P-Value\n",
    "    R, PVal = scipy.stats.pearsonr(COVyPM25[(COVyPM25.Mes == i)&(COVyPM25['Año'] == 19)]['MORTALIDAD'],COVyPM25[(COVyPM25.Mes == i)&(COVyPM25['Año'] == 19)]['PM 2.5']) \n",
    "    print(scipy.stats.kendalltau(COVyPM25[(COVyPM25.Mes == i)&(COVyPM25['Año'] == 19)]['MORTALIDAD'],COVyPM25[(COVyPM25.Mes == i)&(COVyPM25['Año'] == 19)]['PM 2.5']))\n",
    "    print(scipy.stats.spearmanr(COVyPM25[(COVyPM25.Mes == i)&(COVyPM25['Año'] == 19)]['MORTALIDAD'],COVyPM25[(COVyPM25.Mes == i)&(COVyPM25['Año'] == 19)]['PM 2.5']))\n",
    "    \n",
    "    # Matriz de correlacion mes i\n",
    "    (sns.heatmap(\n",
    "        COVyPM25[(COVyPM25.Mes == i)&(COVyPM25['Año'] == 19)]\n",
    "        .drop(['Mes','Año','CASOS','MUERTES'],axis=1)\n",
    "        .corr(),\n",
    "        cmap = 'seismic',\n",
    "        center=0))\n",
    "    plt.title('Concentraciones en mes '+str(i)+'\\n R= '+str(round(R,4))+' $P_{Value}$= '+str(round(PVal,4))+'\\n#Obs = '+ str(len(COVyPM25[(COVyPM25.Mes == i)&(COVyPM25['Año'] == 19)])))\n",
    "    \n",
    "plt.subplot(247)\n",
    "\n",
    "COVyPM6Month = COVyPM25[((COVyPM25.Mes <= 3) & (COVyPM25['Año'] == 20))|((COVyPM25.Mes > 9) & (COVyPM25['Año'] == 19))]\n",
    "\n",
    "R, PVal = scipy.stats.pearsonr(COVyPM6Month.groupby(['Estado','Condado']).mean().drop(['Mes','Año'], axis=1)['MORTALIDAD'],\n",
    "                               COVyPM6Month.groupby(['Estado','Condado']).mean().drop(['Mes','Año'], axis=1)['PM 2.5']) \n",
    "rho, Pvalrho = scipy.stats.spearmanr(COVyPM6Month['MORTALIDAD'],COVyPM6Month['PM 2.5'])\n",
    "\n",
    "# print(scipy.stats.spearmanr(COVyPM6Month['MORTALIDAD'],COVyPM6Month['AQI']))\n",
    "\n",
    "(sns.heatmap(\n",
    "    COVyPM6Month\n",
    "    .groupby(['Estado','Condado'])\n",
    "    .mean()\n",
    "    .drop(['Mes','Año','CASOS','MUERTES'],axis=1)\n",
    "    .corr(),\n",
    "    cmap = 'seismic',\n",
    "    center=0))\n",
    "\n",
    "plt.title('Analisis con concentraciones medias semestrales\\n(10/2019 - 03/2020) #Obs = '+ str(len(COVyPM6Month)) + '\\nR ='\n",
    "          + str(round(R,4)) + ' $P_{Value}$= '+str(round(PVal,4))\n",
    "          +'\\n \\u03C1='+str(round(rho,4)) + ' $P_{Value}$ = '+ str(round(Pvalrho,4))\n",
    "          , fontsize=10)\n",
    "\n",
    "plt.subplot(248)\n",
    "\n",
    "COVyPM3Month = COVyPM25[((COVyPM25.Mes <= 3) & (COVyPM25['Año'] == 20))]\n",
    "\n",
    "R, PVal = scipy.stats.pearsonr(COVyPM3Month.groupby(['Estado','Condado']).mean().drop(['Mes','Año'], axis=1)['MORTALIDAD'],\n",
    "                               COVyPM3Month.groupby(['Estado','Condado']).mean().drop(['Mes','Año'], axis=1)['PM 2.5']) \n",
    "rho, Pvalrho = scipy.stats.spearmanr(COVyPM3Month['MORTALIDAD'],COVyPM3Month['PM 2.5'])\n",
    "\n",
    "# print(scipy.stats.spearmanr(COVyPM3Month['MORTALIDAD'],COVyPM3Month['AQI']))\n",
    "\n",
    "(sns.heatmap(\n",
    "    COVyPM3Month\n",
    "    .groupby(['Estado','Condado'])\n",
    "    .mean()\n",
    "    .drop(['Mes','Año','CASOS','MUERTES'],axis=1)\n",
    "    .corr(),\n",
    "    cmap = 'seismic',\n",
    "    center=0))\n",
    "\n",
    "plt.title('Analisis con concentraciones medias trimestrales\\n(01/2020 - 03/2020) #Obs = '+ str(len(COVyPM3Month)) + '\\nR ='\n",
    "          + str(round(R,4)) + ' $P_{Value}$= '+str(round(PVal,4))\n",
    "          +'\\n \\u03C1='+str(round(rho,4)) + ' $P_{Value}$ = '+ str(round(Pvalrho,4))\n",
    "          ,fontsize=10)\n",
    "\n",
    "\n",
    "fig.savefig('MatrizDeCorrelacionDeCadaMes'+str(date.today())+'.png', dpi=100)"
   ]
  },
  {
   "cell_type": "code",
   "execution_count": 575,
   "metadata": {},
   "outputs": [
    {
     "name": "stdout",
     "output_type": "stream",
     "text": [
      "                   FIPS  CASOS  MUERTES  MORTALIDAD    PM 2.5        AQI\n",
      "Estado  Condado                                                         \n",
      "Alabama Baldwin  1003.0  260.0      8.0    0.030769  6.820278  28.188889\n",
      "        Clay     1027.0   27.0      2.0    0.074074  6.198333  25.616667\n",
      "        DeKalb   1049.0  196.0      2.0    0.010204  6.478056  27.138889\n",
      "        Etowah   1055.0  206.0     10.0    0.048544  8.142130  32.487037\n",
      "        Houston  1069.0  137.0      4.0    0.029197  7.260833  30.041667\n"
     ]
    },
    {
     "data": {
      "image/png": "[encoded data removed]",
      "text/plain": [
       "<Figure size 1152x432 with 3 Axes>"
      ]
     },
     "metadata": {
      "needs_background": "light"
     },
     "output_type": "display_data"
    }
   ],
   "source": [
    "# Matriz de correlacion para promedio de los 6 meses (OCTUBRE NOVIEMBRE DICIEMBRE ENERO FEBRERO Y MARZO) Eliminando casos con mortalidad >= 1\n",
    "\n",
    "fig = plt.figure(figsize=(16,6))\n",
    "plt.suptitle('Análisis para promedio entre Octubre 01 y Marzo 31 de $PM_{2.5}$',y=1.05, fontsize=19)\n",
    "\n",
    "R, PVal = scipy.stats.pearsonr(COVyPM6Month[COVyPM6Month.MORTALIDAD<1].groupby(['Estado','Condado']).mean().drop(['Mes','Año'], axis=1)['MORTALIDAD']\n",
    "                               ,COVyPM6Month[COVyPM6Month.MORTALIDAD<1].groupby(['Estado','Condado']).mean().drop(['Mes','Año'], axis=1)['PM 2.5']) \n",
    "\n",
    "plt.subplot(121)\n",
    "plt.title('Correlacion con concentraciones promedio en los 6 meses\\nanalizados con R='+str(round(R,4))+' y $P_{Value}$=' + str(round(PVal,4)))\n",
    "\n",
    "(sns.heatmap(COVyPM6Month[COVyPM6Month.MORTALIDAD<1].groupby(['Estado','Condado']).mean().drop(['Mes','Año'], axis=1)\n",
    "    .corr(),\n",
    "    cmap = 'seismic',\n",
    "    center=0))\n",
    "\n",
    "plt.subplot(122)\n",
    "plt.title('Regresión lineal entre Mortalidad y Promedio mensual de $PM_{2.5}$')\n",
    "sns.regplot(COVyPM6Month[COVyPM6Month.MORTALIDAD<1].groupby(['Estado','Condado']).mean().drop(['Mes','Año'], axis=1)['MORTALIDAD']\n",
    "            ,COVyPM6Month[COVyPM6Month.MORTALIDAD<1].groupby(['Estado','Condado']).mean().drop(['Mes','Año'], axis=1)['PM 2.5']\n",
    "            ,color='darkred',scatter_kws=dict(alpha=0.35,edgecolor='white')\n",
    "            ,ci=95)\n",
    "\n",
    "\n",
    "print(COVyPM6Month.groupby(['Estado','Condado']).mean().drop(['Mes','Año'], axis=1).head())\n",
    "\n",
    "fig.savefig('Matriz de correlación y regresion lineal SEMESTRAL '+str(date.today())+'.png',dpi=200)"
   ]
  },
  {
   "cell_type": "code",
   "execution_count": 576,
   "metadata": {},
   "outputs": [
    {
     "name": "stdout",
     "output_type": "stream",
     "text": [
      "664\n",
      "                   FIPS  CASOS  MUERTES  MORTALIDAD    PM 2.5        AQI\n",
      "Estado  Condado                                                         \n",
      "Alabama Baldwin  1003.0  260.0      8.0    0.030769  6.820278  28.188889\n",
      "        Clay     1027.0   27.0      2.0    0.074074  6.198333  25.616667\n",
      "        DeKalb   1049.0  196.0      2.0    0.010204  6.478056  27.138889\n",
      "        Etowah   1055.0  206.0     10.0    0.048544  8.142130  32.487037\n",
      "        Houston  1069.0  137.0      4.0    0.029197  7.260833  30.041667\n"
     ]
    },
    {
     "data": {
      "image/png": "[encoded data removed]",
      "text/plain": [
       "<Figure size 1152x432 with 3 Axes>"
      ]
     },
     "metadata": {
      "needs_background": "light"
     },
     "output_type": "display_data"
    }
   ],
   "source": [
    "# Matriz de correlacion para promedio de los 3 meses (ENERO FEBRERO Y MARZO) Eliminando casos con mortalidad >= 1\n",
    "\n",
    "fig = plt.figure(figsize=(16,6))\n",
    "plt.suptitle('Análisis para promedio entre Enero 01 y Marzo 31 de $PM_{2.5}$',y=1.05, fontsize=19)\n",
    "\n",
    "R, PVal = scipy.stats.pearsonr(COVyPM3Month[COVyPM3Month.MORTALIDAD<1].groupby(['Estado','Condado']).mean().drop(['Mes','Año'], axis=1)['MORTALIDAD']\n",
    "                               ,COVyPM3Month[COVyPM3Month.MORTALIDAD<1].groupby(['Estado','Condado']).mean().drop(['Mes','Año'], axis=1)['PM 2.5']) \n",
    "\n",
    "plt.subplot(121)\n",
    "plt.title('Correlacion con concentraciones promedio en los 3 meses\\nanalizados con R='+str(round(R,4))+' y $P_{Value}$=' + str(round(PVal,4)))\n",
    "\n",
    "(sns.heatmap(COVyPM3Month[COVyPM3Month.MORTALIDAD<1].groupby(['Estado','Condado']).mean().drop(['Mes','Año'], axis=1)\n",
    "    .corr(),\n",
    "    cmap = 'seismic',\n",
    "    center=0))\n",
    "\n",
    "plt.subplot(122)\n",
    "plt.title('Regresión lineal entre Mortalidad y Promedio mensual de $PM_{2.5}$')\n",
    "sns.regplot(COVyPM3Month[COVyPM3Month.MORTALIDAD<1].groupby(['Estado','Condado']).mean().drop(['Mes','Año'], axis=1)['MORTALIDAD']\n",
    "            ,COVyPM3Month[COVyPM3Month.MORTALIDAD<1].groupby(['Estado','Condado']).mean().drop(['Mes','Año'], axis=1)['PM 2.5']\n",
    "            ,color='darkred',scatter_kws=dict(alpha=0.35,edgecolor='white')\n",
    "            ,ci=95)\n",
    "\n",
    "print(len(COVyPM6Month.groupby(['Estado','Condado']).mean()))\n",
    "print(COVyPM6Month.groupby(['Estado','Condado']).mean().drop(['Mes','Año'], axis=1).head())\n",
    "\n",
    "fig.savefig('Matriz de correlación y regresion lineal TRIMESTRAL '+str(date.today())+'.png',dpi=200)\n"
   ]
  },
  {
   "cell_type": "code",
   "execution_count": null,
   "metadata": {},
   "outputs": [],
   "source": []
  },
  {
   "cell_type": "markdown",
   "metadata": {},
   "source": [
    "# REGRESION LINEAL MULTIVARIADA INCLUYENDO PARÁMETROS QUE PUEDAN CONFUNDIR ANÁLISIS (3 MONTH)\n",
    "\n",
    "#### CONFOUNDERS: Densidad poblacional, % Pobreza, Inidice de masa corporal medio, % Fumadores"
   ]
  },
  {
   "cell_type": "code",
   "execution_count": 577,
   "metadata": {},
   "outputs": [],
   "source": [
    "directory_c = 'DataConfounders/'\n",
    "\n",
    "Health_Data = pd.read_csv(directory_c + 'brfss_county_interpolated.csv') # Se cuenta con datos hasta el 2012\n",
    "Health_Data = Health_Data[Health_Data.year == 2012]\n",
    "\n",
    "Census_Data = pd.read_csv(directory_c + 'census_county_interpolated.csv')\n",
    "Census_Data = Census_Data[Census_Data.year == 2018] #Limitacion a ultimo año registrado (2018)\n",
    "\n",
    "Pobreza = Census_Data[['fips','poverty']]\n",
    "\n",
    "Densidad_Pob = Census_Data[['fips','popdensity']]\n",
    "\n",
    "Fumadores = Health_Data[['fips','smoke_rate']]\n",
    "\n",
    "IMC_medio = Health_Data[['fips','mean_bmi']]"
   ]
  },
  {
   "cell_type": "code",
   "execution_count": 578,
   "metadata": {},
   "outputs": [
    {
     "name": "stdout",
     "output_type": "stream",
     "text": [
      "<class 'pandas.core.frame.DataFrame'>\n",
      "Float64Index: 570 entries, 1073.0 to 56039.0\n",
      "Data columns (total 6 columns):\n",
      " #   Column      Non-Null Count  Dtype  \n",
      "---  ------      --------------  -----  \n",
      " 0   MORTALIDAD  570 non-null    float64\n",
      " 1   PM 2.5      570 non-null    float64\n",
      " 2   poverty     570 non-null    float64\n",
      " 3   popdensity  570 non-null    float64\n",
      " 4   smoke_rate  570 non-null    float64\n",
      " 5   mean_bmi    570 non-null    float64\n",
      "dtypes: float64(6)\n",
      "memory usage: 31.2 KB\n",
      "None\n"
     ]
    },
    {
     "data": {
      "image/png": "[encoded data removed]",
      "text/plain": [
       "<Figure size 432x288 with 2 Axes>"
      ]
     },
     "metadata": {
      "needs_background": "light"
     },
     "output_type": "display_data"
    }
   ],
   "source": [
    "COVyPMLinReg = COVyPM3Month.reset_index()[['FIPS','MORTALIDAD','PM 2.5']]\n",
    "\n",
    "COVyPMLinReg = pd.merge(COVyPMLinReg, Pobreza, 'inner',left_on = 'FIPS',right_on = 'fips')\n",
    "COVyPMLinReg = COVyPMLinReg.drop('fips', axis=1)\n",
    "\n",
    "COVyPMLinReg = pd.merge(COVyPMLinReg, Densidad_Pob, 'inner',left_on = 'FIPS',right_on = 'fips')\n",
    "COVyPMLinReg = COVyPMLinReg.drop('fips', axis=1)\n",
    "\n",
    "COVyPMLinReg = pd.merge(COVyPMLinReg, Fumadores, 'inner',left_on = 'FIPS',right_on = 'fips')\n",
    "COVyPMLinReg = COVyPMLinReg.drop('fips', axis=1)\n",
    "\n",
    "COVyPMLinReg = pd.merge(COVyPMLinReg, IMC_medio, 'inner',left_on = 'FIPS',right_on = 'fips')\n",
    "COVyPMLinReg = COVyPMLinReg.drop('fips', axis=1)\n",
    "\n",
    "COVyPMLinReg = COVyPMLinReg.groupby('FIPS').mean()\n",
    "\n",
    "sns.heatmap(COVyPMLinReg.corr(), cmap='seismic',center=0)\n",
    "print(COVyPMLinReg.info())"
   ]
  },
  {
   "cell_type": "markdown",
   "metadata": {},
   "source": [
    "## Modelo de regresion lineal multivariada con 5 parametros mencionados arriba"
   ]
  },
  {
   "cell_type": "code",
   "execution_count": 579,
   "metadata": {},
   "outputs": [],
   "source": [
    "from sklearn.linear_model import LinearRegression"
   ]
  },
  {
   "cell_type": "code",
   "execution_count": 580,
   "metadata": {},
   "outputs": [
    {
     "data": {
      "text/plain": [
       "0.04556247274987524"
      ]
     },
     "execution_count": 580,
     "metadata": {},
     "output_type": "execute_result"
    }
   ],
   "source": [
    "lg = LinearRegression(normalize=True)\n",
    "X = COVyPMLinReg[['PM 2.5', 'poverty', 'popdensity', 'smoke_rate', 'mean_bmi']]\n",
    "y = COVyPMLinReg['MORTALIDAD']\n",
    "\n",
    "lg.fit(X,y)\n",
    "\n",
    "lg.score(X,y)"
   ]
  },
  {
   "cell_type": "code",
   "execution_count": 581,
   "metadata": {},
   "outputs": [
    {
     "name": "stdout",
     "output_type": "stream",
     "text": [
      "0.002924663911948553\n",
      "-0.04479937300396925\n",
      "9.98286782897012e-07\n",
      "0.043572806192214084\n",
      "-0.0003299265516620635\n"
     ]
    },
    {
     "data": {
      "text/plain": [
       "0.016932411985535425"
      ]
     },
     "execution_count": 581,
     "metadata": {},
     "output_type": "execute_result"
    }
   ],
   "source": [
    "for i in lg.coef_:\n",
    "    print(i)\n",
    "lg.intercept_"
   ]
  },
  {
   "cell_type": "markdown",
   "metadata": {},
   "source": [
    "# <center>  MODELO DE REGRESION LINEAL\n",
    "$$ 0.0029\\cdot PM_{2.5_{Oct-Mar}} - 0.0447 \\cdot Pobreza_{2018} \\cdot + 9.98\\cdot 10^{-7} DensidadPoblacional_{2018} + 0.0436 \\cdot \\%Fumadores_{2012} - 3.3\\cdot 10^{-4} \\cdot IMC_{medio_{2012}} + 0.017 $$"
   ]
  },
  {
   "cell_type": "code",
   "execution_count": 582,
   "metadata": {},
   "outputs": [
    {
     "data": {
      "text/plain": [
       "0.027193929668901662"
      ]
     },
     "execution_count": 582,
     "metadata": {},
     "output_type": "execute_result"
    }
   ],
   "source": [
    "lg = LinearRegression()\n",
    "\n",
    "COVyPMLinReg = COVyPMLinReg[COVyPMLinReg != 0].dropna()\n",
    "X = COVyPMLinReg[['PM 2.5', 'poverty', 'popdensity', 'smoke_rate', 'mean_bmi']]\n",
    "y = COVyPMLinReg['MORTALIDAD']\n",
    "\n",
    "lg.fit(X,np.log(y))\n",
    "lg.score(X,np.log(y))"
   ]
  },
  {
   "cell_type": "code",
   "execution_count": 583,
   "metadata": {},
   "outputs": [
    {
     "name": "stdout",
     "output_type": "stream",
     "text": [
      "0.02589736399548724\n",
      "-0.04172085955984857\n",
      "1.7970391276005668e-05\n",
      "1.5067027724407367\n",
      "-0.0061241511963998204\n"
     ]
    },
    {
     "data": {
      "text/plain": [
       "-3.962368829780777"
      ]
     },
     "execution_count": 583,
     "metadata": {},
     "output_type": "execute_result"
    }
   ],
   "source": [
    "MRRSKL = []\n",
    "for i in lg.coef_:\n",
    "    print(i)\n",
    "    MRRSKL.append(np.exp(i))\n",
    "lg.intercept_"
   ]
  },
  {
   "cell_type": "markdown",
   "metadata": {},
   "source": [
    "$$ \\log(Mortalidad) = 0.035*PM_{2.5} - 0.281*Pobreza + 1.9831*DensidadPoblacional + 1.4906*\\%Fumadores + 0.0218*IMC  -4.7684 $$"
   ]
  },
  {
   "cell_type": "code",
   "execution_count": 584,
   "metadata": {},
   "outputs": [],
   "source": [
    "import statsmodels.api as sm"
   ]
  },
  {
   "cell_type": "code",
   "execution_count": 585,
   "metadata": {},
   "outputs": [],
   "source": [
    "X = COVyPMLinReg[['PM 2.5', 'poverty', 'popdensity', 'smoke_rate', 'mean_bmi']]\n",
    "y = COVyPMLinReg['MORTALIDAD']"
   ]
  },
  {
   "cell_type": "code",
   "execution_count": 586,
   "metadata": {},
   "outputs": [
    {
     "data": {
      "text/html": [
       "<table class=\"simpletable\">\n",
       "<caption>Generalized Linear Model Regression Results</caption>\n",
       "<tr>\n",
       "  <th>Dep. Variable:</th>           <td>y</td>        <th>  No. Observations:  </th>  <td>   479</td> \n",
       "</tr>\n",
       "<tr>\n",
       "  <th>Model:</th>                  <td>GLM</td>       <th>  Df Residuals:      </th>  <td>   474</td> \n",
       "</tr>\n",
       "<tr>\n",
       "  <th>Model Family:</th>        <td>Gaussian</td>     <th>  Df Model:          </th>  <td>     4</td> \n",
       "</tr>\n",
       "<tr>\n",
       "  <th>Link Function:</th>       <td>identity</td>     <th>  Scale:             </th> <td> 0.58865</td>\n",
       "</tr>\n",
       "<tr>\n",
       "  <th>Method:</th>                <td>IRLS</td>       <th>  Log-Likelihood:    </th> <td> -550.24</td>\n",
       "</tr>\n",
       "<tr>\n",
       "  <th>Date:</th>            <td>Tue, 19 May 2020</td> <th>  Deviance:          </th> <td>  279.02</td>\n",
       "</tr>\n",
       "<tr>\n",
       "  <th>Time:</th>                <td>21:35:54</td>     <th>  Pearson chi2:      </th>  <td>  279.</td> \n",
       "</tr>\n",
       "<tr>\n",
       "  <th>No. Iterations:</th>          <td>3</td>        <th>                     </th>     <td> </td>   \n",
       "</tr>\n",
       "<tr>\n",
       "  <th>Covariance Type:</th>     <td>nonrobust</td>    <th>                     </th>     <td> </td>   \n",
       "</tr>\n",
       "</table>\n",
       "<table class=\"simpletable\">\n",
       "<tr>\n",
       "   <td></td>     <th>coef</th>     <th>std err</th>      <th>z</th>      <th>P>|z|</th>  <th>[0.025</th>    <th>0.975]</th>  \n",
       "</tr>\n",
       "<tr>\n",
       "  <th>x1</th> <td>    0.0288</td> <td>    0.018</td> <td>    1.584</td> <td> 0.113</td> <td>   -0.007</td> <td>    0.064</td>\n",
       "</tr>\n",
       "<tr>\n",
       "  <th>x2</th> <td>    0.8727</td> <td>    0.703</td> <td>    1.241</td> <td> 0.215</td> <td>   -0.505</td> <td>    2.251</td>\n",
       "</tr>\n",
       "<tr>\n",
       "  <th>x3</th> <td> 9.755e-06</td> <td> 9.71e-06</td> <td>    1.004</td> <td> 0.315</td> <td>-9.28e-06</td> <td> 2.88e-05</td>\n",
       "</tr>\n",
       "<tr>\n",
       "  <th>x4</th> <td>    1.3727</td> <td>    0.522</td> <td>    2.628</td> <td> 0.009</td> <td>    0.349</td> <td>    2.396</td>\n",
       "</tr>\n",
       "<tr>\n",
       "  <th>x5</th> <td>   -0.1518</td> <td>    0.011</td> <td>  -13.859</td> <td> 0.000</td> <td>   -0.173</td> <td>   -0.130</td>\n",
       "</tr>\n",
       "</table>"
      ],
      "text/plain": [
       "<class 'statsmodels.iolib.summary.Summary'>\n",
       "\"\"\"\n",
       "                 Generalized Linear Model Regression Results                  \n",
       "==============================================================================\n",
       "Dep. Variable:                      y   No. Observations:                  479\n",
       "Model:                            GLM   Df Residuals:                      474\n",
       "Model Family:                Gaussian   Df Model:                            4\n",
       "Link Function:               identity   Scale:                         0.58865\n",
       "Method:                          IRLS   Log-Likelihood:                -550.24\n",
       "Date:                Tue, 19 May 2020   Deviance:                       279.02\n",
       "Time:                        21:35:54   Pearson chi2:                     279.\n",
       "No. Iterations:                     3                                         \n",
       "Covariance Type:            nonrobust                                         \n",
       "==============================================================================\n",
       "                 coef    std err          z      P>|z|      [0.025      0.975]\n",
       "------------------------------------------------------------------------------\n",
       "x1             0.0288      0.018      1.584      0.113      -0.007       0.064\n",
       "x2             0.8727      0.703      1.241      0.215      -0.505       2.251\n",
       "x3          9.755e-06   9.71e-06      1.004      0.315   -9.28e-06    2.88e-05\n",
       "x4             1.3727      0.522      2.628      0.009       0.349       2.396\n",
       "x5            -0.1518      0.011    -13.859      0.000      -0.173      -0.130\n",
       "==============================================================================\n",
       "\"\"\""
      ]
     },
     "execution_count": 586,
     "metadata": {},
     "output_type": "execute_result"
    }
   ],
   "source": [
    "modelo = sm.GLM(np.array(np.log(y)),np.array(X), family=sm.families.Gaussian()).fit()\n",
    "modelo.summary()"
   ]
  },
  {
   "cell_type": "code",
   "execution_count": 587,
   "metadata": {},
   "outputs": [
    {
     "name": "stdout",
     "output_type": "stream",
     "text": [
      "1.0291783472146896\n",
      "2.3934504359536475\n",
      "1.0000097552725011\n",
      "3.945820035976946\n",
      "0.8591641699221164\n"
     ]
    },
    {
     "data": {
      "image/png": "[encoded data removed]",
      "text/plain": [
       "<Figure size 1152x504 with 2 Axes>"
      ]
     },
     "metadata": {
      "needs_background": "light"
     },
     "output_type": "display_data"
    }
   ],
   "source": [
    "names = ['$PM_{2.5}$','% Pobreza','Densidad\\npoblacional','% Fumadores','IMC']\n",
    "\n",
    "fig = plt.figure(figsize=(16,7))\n",
    "\n",
    "plt.subplot(1,2,1)\n",
    "for i in range(5):\n",
    "    MRR = np.exp(modelo.params[i])\n",
    "    print(MRR)\n",
    "    MRRmin = np.exp(modelo.conf_int()[i,0])\n",
    "    MRRmax = np.exp(modelo.conf_int()[i,1])\n",
    "    plt.bar(names[i], MRR, yerr = ((MRR-MRRmin)/MRR + (MRRmax-MRR)/MRR)/2, capsize=6, color='w', edgecolor = 'k')\n",
    "    plt.ylabel('MRR')\n",
    "    plt.bar(names[i], MRRSKL[i], edgecolor='darkred', color='w', alpha = 0.5)\n",
    "\n",
    "    plt.axhline(y=1, ls='--', c='k')\n",
    "\n",
    "plt.bar(names[i], MRR, yerr = ((MRR-MRRmin)/MRR + (MRRmax-MRR)/MRR)/2, capsize=6, color='w', edgecolor = 'k', label = 'Modelo lineal generalizado con IC=95%')\n",
    "plt.bar(names[i], MRRSKL[i], edgecolor='darkred', color='w', alpha = 0.5, label = 'Regresión lineal por mínimos cuadrádos')\n",
    "plt.legend(loc=2)\n",
    "\n",
    "plt.subplot(1,2,2)\n",
    "MRR = np.exp(modelo.params[0])\n",
    "MRRmin = np.exp(modelo.conf_int()[0,0])\n",
    "MRRmax = np.exp(modelo.conf_int()[0,1])\n",
    "plt.bar(names[0], MRR, yerr = ((MRR-MRRmin)/MRR + (MRRmax-MRR)/MRR)/2, capsize=6, color='w', edgecolor = 'k', label = 'Modelo lineal generalizado con IC=95%')\n",
    "plt.bar(names[0], MRRSKL[0], edgecolor='darkred', color='w', alpha = 0.5, label = 'Regresión lineal por mínimos cuadrádos')\n",
    "plt.ylabel('MRR')\n",
    "plt.legend()\n",
    "plt.ylim((0.9,1.1))\n",
    "\n",
    "plt.axhline(y=1, ls='--', c='k')\n",
    "\n",
    "plt.suptitle('Análisis con concentraciones medias (Ene-20/Mar-20)\\n de $PM_{2.5}$ con inclusión de 4 factores de confusión', fontsize=18)\n",
    "\n",
    "fig.savefig('ResultadosTRIMESTRALESRegLineal'+str(date.today())+'.png', dpi=200)"
   ]
  },
  {
   "cell_type": "markdown",
   "metadata": {},
   "source": [
    "# REGRESION LINEAL MULTIVARIADA INCLUYENDO PARÁMETROS QUE PUEDAN CONFUNDIR ANÁLISIS (6 MONTH)\n",
    "\n",
    "#### CONFOUNDERS: Densidad poblacional, % Pobreza, Inidice de masa corporal medio, % Fumadores"
   ]
  },
  {
   "cell_type": "code",
   "execution_count": 588,
   "metadata": {},
   "outputs": [],
   "source": [
    "directory_c = 'DataConfounders/'\n",
    "\n",
    "Health_Data = pd.read_csv(directory_c + 'brfss_county_interpolated.csv') # Se cuenta con datos hasta el 2012\n",
    "Health_Data = Health_Data[Health_Data.year == 2012]\n",
    "\n",
    "Census_Data = pd.read_csv(directory_c + 'census_county_interpolated.csv')\n",
    "Census_Data = Census_Data[Census_Data.year == 2018] #Limitacion a ultimo año registrado (2018)\n",
    "\n",
    "Pobreza = Census_Data[['fips','poverty']]\n",
    "\n",
    "Densidad_Pob = Census_Data[['fips','popdensity']]\n",
    "\n",
    "Fumadores = Health_Data[['fips','smoke_rate']]\n",
    "\n",
    "IMC_medio = Health_Data[['fips','mean_bmi']]"
   ]
  },
  {
   "cell_type": "code",
   "execution_count": 589,
   "metadata": {},
   "outputs": [],
   "source": [
    "COVyPMLinReg = COVyPM6Month.reset_index()[['FIPS','MORTALIDAD','PM 2.5']]\n",
    "\n",
    "COVyPMLinReg = pd.merge(COVyPMLinReg, Pobreza, 'inner',left_on = 'FIPS',right_on = 'fips')\n",
    "COVyPMLinReg = COVyPMLinReg.drop('fips', axis=1)\n",
    "\n",
    "COVyPMLinReg = pd.merge(COVyPMLinReg, Densidad_Pob, 'inner',left_on = 'FIPS',right_on = 'fips')\n",
    "COVyPMLinReg = COVyPMLinReg.drop('fips', axis=1)\n",
    "\n",
    "COVyPMLinReg = pd.merge(COVyPMLinReg, Fumadores, 'inner',left_on = 'FIPS',right_on = 'fips')\n",
    "COVyPMLinReg = COVyPMLinReg.drop('fips', axis=1)\n",
    "\n",
    "COVyPMLinReg = pd.merge(COVyPMLinReg, IMC_medio, 'inner',left_on = 'FIPS',right_on = 'fips')\n",
    "COVyPMLinReg = COVyPMLinReg.drop('fips', axis=1)\n",
    "\n",
    "COVyPMLinReg = COVyPMLinReg.groupby('FIPS').mean()"
   ]
  },
  {
   "cell_type": "markdown",
   "metadata": {},
   "source": [
    "## Modelo de regresion lineal multivariada con 5 parametros mencionados arriba"
   ]
  },
  {
   "cell_type": "code",
   "execution_count": 590,
   "metadata": {},
   "outputs": [],
   "source": [
    "from sklearn.linear_model import LinearRegression"
   ]
  },
  {
   "cell_type": "code",
   "execution_count": 591,
   "metadata": {},
   "outputs": [
    {
     "data": {
      "text/plain": [
       "0.03641422475510969"
      ]
     },
     "execution_count": 591,
     "metadata": {},
     "output_type": "execute_result"
    }
   ],
   "source": [
    "lg = LinearRegression(normalize=True)\n",
    "X = COVyPMLinReg[['PM 2.5', 'poverty', 'popdensity', 'smoke_rate', 'mean_bmi']]\n",
    "y = COVyPMLinReg['MORTALIDAD']\n",
    "\n",
    "lg.fit(X,y)\n",
    "\n",
    "lg.score(X,y)"
   ]
  },
  {
   "cell_type": "code",
   "execution_count": 592,
   "metadata": {},
   "outputs": [
    {
     "name": "stdout",
     "output_type": "stream",
     "text": [
      "0.0030518422258071325\n",
      "-0.0498520219011152\n",
      "1.1539880057068773e-06\n",
      "0.041312238761386406\n",
      "0.0011505080951449143\n"
     ]
    },
    {
     "data": {
      "text/plain": [
       "-0.024168231452334717"
      ]
     },
     "execution_count": 592,
     "metadata": {},
     "output_type": "execute_result"
    }
   ],
   "source": [
    "for i in lg.coef_:\n",
    "    print(i)\n",
    "lg.intercept_"
   ]
  },
  {
   "cell_type": "markdown",
   "metadata": {},
   "source": [
    "# <center>  MODELO DE REGRESION LINEAL\n",
    "$$ 0.00305\\cdot PM_{2.5_{Oct-Mar}} - 0.0498 \\cdot Pobreza_{2018} \\cdot + 1.154\\cdot 10^{-6} DensidadPoblacional_{2018} + 0.0413 \\cdot \\%Fumadores_{2012} + 0.0011 \\cdot IMC_{medio_{2012}} - 0.024 $$"
   ]
  },
  {
   "cell_type": "markdown",
   "metadata": {},
   "source": [
    "#### Ahora se quiere ajustar a un modelo como el mencionado en:\n",
    "Exposure to air pollution and COVID-19 mortality in the United States\n",
    "Xiao Wu MS, Rachel C. Nethery PhD, M. Benjamin Sabath MA, Danielle Braun PhD, Francesca\n",
    "Dominici PhD\n",
    "\n",
    "$$ log(Mortalidad) = \\beta_0 + \\beta_1\\cdot PM_{2.5}+ \\beta_2 \\cdot Pobreza + ... $$"
   ]
  },
  {
   "cell_type": "code",
   "execution_count": 593,
   "metadata": {},
   "outputs": [],
   "source": [
    "COVyPMLinReg = COVyPMLinReg[COVyPMLinReg != 0].dropna()"
   ]
  },
  {
   "cell_type": "code",
   "execution_count": 594,
   "metadata": {},
   "outputs": [
    {
     "data": {
      "text/plain": [
       "0.02975857350675315"
      ]
     },
     "execution_count": 594,
     "metadata": {},
     "output_type": "execute_result"
    }
   ],
   "source": [
    "lg = LinearRegression()\n",
    "X = COVyPMLinReg[['PM 2.5', 'poverty', 'popdensity', 'smoke_rate', 'mean_bmi']]\n",
    "y = COVyPMLinReg['MORTALIDAD']\n",
    "\n",
    "lg.fit(X,np.log(y))\n",
    "\n",
    "lg.score(X,np.log(y))"
   ]
  },
  {
   "cell_type": "code",
   "execution_count": 595,
   "metadata": {},
   "outputs": [],
   "source": [
    "MRRSKL = []\n",
    "for i in range(len(lg.coef_)):\n",
    "    MRRSKL.append(np.exp(lg.coef_[i]))"
   ]
  },
  {
   "cell_type": "code",
   "execution_count": 596,
   "metadata": {},
   "outputs": [
    {
     "data": {
      "text/plain": [
       "1.0361188084025161"
      ]
     },
     "execution_count": 596,
     "metadata": {},
     "output_type": "execute_result"
    }
   ],
   "source": [
    "MRR = np.exp(lg.coef_[0])\n",
    "MRR"
   ]
  },
  {
   "cell_type": "code",
   "execution_count": 597,
   "metadata": {},
   "outputs": [],
   "source": [
    "import statsmodels.api as sm"
   ]
  },
  {
   "cell_type": "code",
   "execution_count": 598,
   "metadata": {},
   "outputs": [],
   "source": [
    "X = COVyPMLinReg[['PM 2.5', 'poverty', 'popdensity', 'smoke_rate', 'mean_bmi']]\n",
    "y = COVyPMLinReg['MORTALIDAD']"
   ]
  },
  {
   "cell_type": "code",
   "execution_count": 599,
   "metadata": {},
   "outputs": [
    {
     "data": {
      "text/html": [
       "<table class=\"simpletable\">\n",
       "<caption>Generalized Linear Model Regression Results</caption>\n",
       "<tr>\n",
       "  <th>Dep. Variable:</th>           <td>y</td>        <th>  No. Observations:  </th>  <td>   523</td> \n",
       "</tr>\n",
       "<tr>\n",
       "  <th>Model:</th>                  <td>GLM</td>       <th>  Df Residuals:      </th>  <td>   518</td> \n",
       "</tr>\n",
       "<tr>\n",
       "  <th>Model Family:</th>        <td>Gaussian</td>     <th>  Df Model:          </th>  <td>     4</td> \n",
       "</tr>\n",
       "<tr>\n",
       "  <th>Link Function:</th>       <td>identity</td>     <th>  Scale:             </th> <td> 0.61786</td>\n",
       "</tr>\n",
       "<tr>\n",
       "  <th>Method:</th>                <td>IRLS</td>       <th>  Log-Likelihood:    </th> <td> -613.68</td>\n",
       "</tr>\n",
       "<tr>\n",
       "  <th>Date:</th>            <td>Tue, 19 May 2020</td> <th>  Deviance:          </th> <td>  320.05</td>\n",
       "</tr>\n",
       "<tr>\n",
       "  <th>Time:</th>                <td>21:35:55</td>     <th>  Pearson chi2:      </th>  <td>  320.</td> \n",
       "</tr>\n",
       "<tr>\n",
       "  <th>No. Iterations:</th>          <td>3</td>        <th>                     </th>     <td> </td>   \n",
       "</tr>\n",
       "<tr>\n",
       "  <th>Covariance Type:</th>     <td>nonrobust</td>    <th>                     </th>     <td> </td>   \n",
       "</tr>\n",
       "</table>\n",
       "<table class=\"simpletable\">\n",
       "<tr>\n",
       "   <td></td>     <th>coef</th>     <th>std err</th>      <th>z</th>      <th>P>|z|</th>  <th>[0.025</th>    <th>0.975]</th>  \n",
       "</tr>\n",
       "<tr>\n",
       "  <th>x1</th> <td>    0.0399</td> <td>    0.019</td> <td>    2.118</td> <td> 0.034</td> <td>    0.003</td> <td>    0.077</td>\n",
       "</tr>\n",
       "<tr>\n",
       "  <th>x2</th> <td>    0.8380</td> <td>    0.694</td> <td>    1.208</td> <td> 0.227</td> <td>   -0.522</td> <td>    2.198</td>\n",
       "</tr>\n",
       "<tr>\n",
       "  <th>x3</th> <td> 9.717e-06</td> <td>  9.9e-06</td> <td>    0.982</td> <td> 0.326</td> <td>-9.68e-06</td> <td> 2.91e-05</td>\n",
       "</tr>\n",
       "<tr>\n",
       "  <th>x4</th> <td>    1.3348</td> <td>    0.514</td> <td>    2.596</td> <td> 0.009</td> <td>    0.327</td> <td>    2.343</td>\n",
       "</tr>\n",
       "<tr>\n",
       "  <th>x5</th> <td>   -0.1539</td> <td>    0.011</td> <td>  -13.857</td> <td> 0.000</td> <td>   -0.176</td> <td>   -0.132</td>\n",
       "</tr>\n",
       "</table>"
      ],
      "text/plain": [
       "<class 'statsmodels.iolib.summary.Summary'>\n",
       "\"\"\"\n",
       "                 Generalized Linear Model Regression Results                  \n",
       "==============================================================================\n",
       "Dep. Variable:                      y   No. Observations:                  523\n",
       "Model:                            GLM   Df Residuals:                      518\n",
       "Model Family:                Gaussian   Df Model:                            4\n",
       "Link Function:               identity   Scale:                         0.61786\n",
       "Method:                          IRLS   Log-Likelihood:                -613.68\n",
       "Date:                Tue, 19 May 2020   Deviance:                       320.05\n",
       "Time:                        21:35:55   Pearson chi2:                     320.\n",
       "No. Iterations:                     3                                         \n",
       "Covariance Type:            nonrobust                                         \n",
       "==============================================================================\n",
       "                 coef    std err          z      P>|z|      [0.025      0.975]\n",
       "------------------------------------------------------------------------------\n",
       "x1             0.0399      0.019      2.118      0.034       0.003       0.077\n",
       "x2             0.8380      0.694      1.208      0.227      -0.522       2.198\n",
       "x3          9.717e-06    9.9e-06      0.982      0.326   -9.68e-06    2.91e-05\n",
       "x4             1.3348      0.514      2.596      0.009       0.327       2.343\n",
       "x5            -0.1539      0.011    -13.857      0.000      -0.176      -0.132\n",
       "==============================================================================\n",
       "\"\"\""
      ]
     },
     "execution_count": 599,
     "metadata": {},
     "output_type": "execute_result"
    }
   ],
   "source": [
    "modelo = sm.GLM(np.array(np.log(y)),np.array(X)).fit()\n",
    "modelo.summary()"
   ]
  },
  {
   "cell_type": "code",
   "execution_count": 600,
   "metadata": {},
   "outputs": [
    {
     "name": "stdout",
     "output_type": "stream",
     "text": [
      "1.0407190775998283\n",
      "2.311657179713834\n",
      "1.0000097172236209\n",
      "3.799046751417447\n",
      "0.8573790920950467\n"
     ]
    },
    {
     "data": {
      "image/png": "[encoded data removed]",
      "text/plain": [
       "<Figure size 1152x504 with 2 Axes>"
      ]
     },
     "metadata": {
      "needs_background": "light"
     },
     "output_type": "display_data"
    }
   ],
   "source": [
    "names = ['$PM_{2.5}$','% Pobreza','Densidad\\npoblacional','% Fumadores','IMC']\n",
    "\n",
    "fig = plt.figure(figsize=(16,7))\n",
    "\n",
    "plt.subplot(1,2,1)\n",
    "for i in range(5):\n",
    "    MRR = np.exp(modelo.params[i])\n",
    "    print(MRR)\n",
    "    MRRmin = np.exp(modelo.conf_int()[i,0])\n",
    "    MRRmax = np.exp(modelo.conf_int()[i,1])\n",
    "    plt.bar(names[i], MRR, yerr = ((MRR-MRRmin)/MRR + (MRRmax-MRR)/MRR)/2, capsize=6, color='w', edgecolor = 'k')\n",
    "    plt.ylabel('MRR')\n",
    "    plt.bar(names[i], MRRSKL[i], edgecolor='darkred', color='w', alpha = 0.5)\n",
    "\n",
    "    plt.axhline(y=1, ls='--', c='k')\n",
    "\n",
    "plt.bar(names[i], MRR, yerr = ((MRR-MRRmin)/MRR + (MRRmax-MRR)/MRR)/2, capsize=6, color='w', edgecolor = 'k', label = 'Modelo lineal generalizado con IC=95%')\n",
    "plt.bar(names[i], MRRSKL[i], edgecolor='darkred', color='w', alpha = 0.5, label = 'Regresión lineal por mínimos cuadrádos')\n",
    "plt.legend(loc=2)\n",
    "\n",
    "plt.subplot(1,2,2)\n",
    "MRR = np.exp(modelo.params[0])\n",
    "MRRmin = np.exp(modelo.conf_int()[0,0])\n",
    "MRRmax = np.exp(modelo.conf_int()[0,1])\n",
    "plt.bar(names[0], MRR, yerr = ((MRR-MRRmin)/MRR + (MRRmax-MRR)/MRR)/2, capsize=6, color='w', edgecolor = 'k', label = 'Modelo lineal generalizado con IC=95%')\n",
    "plt.bar(names[0], MRRSKL[0], edgecolor='darkred', color='w', alpha = 0.5, label = 'Regresión lineal por mínimos cuadrádos')\n",
    "plt.ylabel('MRR')\n",
    "plt.legend()\n",
    "plt.ylim((0.9,1.1))\n",
    "\n",
    "plt.axhline(y=1, ls='--', c='k')\n",
    "plt.suptitle('Análisis con concentraciones medias (Oct-19/Mar-20)\\n de $PM_{2.5}$ con inclusión de 4 factores de confusión', fontsize=18)\n",
    "\n",
    "fig.savefig('ResultadosSEMESTRALESRegLineal'+str(date.today())+'.png', dpi=200)"
   ]
  },
  {
   "cell_type": "markdown",
   "metadata": {},
   "source": [
    "# **Correlación espacio-temporal**\n",
    "#### Hipótesis: La Mortalidad en cada condado en un día $y$ es mayor si la concentración de PM2.5 en el día $y-x$ es mayor.COVyPM6Month"
   ]
  },
  {
   "cell_type": "code",
   "execution_count": 601,
   "metadata": {},
   "outputs": [],
   "source": [
    "# Intervalo de dias entre Mortalidad y COVID\n",
    "DiasAntesPM = 60\n"
   ]
  },
  {
   "cell_type": "markdown",
   "metadata": {},
   "source": [
    "## Datos diarios de $PM_{2.5}$"
   ]
  },
  {
   "cell_type": "code",
   "execution_count": 602,
   "metadata": {},
   "outputs": [
    {
     "data": {
      "text/html": [
       "<div>\n",
       "<style scoped>\n",
       "    .dataframe tbody tr th:only-of-type {\n",
       "        vertical-align: middle;\n",
       "    }\n",
       "\n",
       "    .dataframe tbody tr th {\n",
       "        vertical-align: top;\n",
       "    }\n",
       "\n",
       "    .dataframe thead th {\n",
       "        text-align: right;\n",
       "    }\n",
       "</style>\n",
       "<table border=\"1\" class=\"dataframe\">\n",
       "  <thead>\n",
       "    <tr style=\"text-align: right;\">\n",
       "      <th></th>\n",
       "      <th>STATE</th>\n",
       "      <th>COUNTY</th>\n",
       "      <th>Date</th>\n",
       "      <th>Daily Mean PM2.5 Concentration</th>\n",
       "      <th>Dias desde 01/01/2020</th>\n",
       "    </tr>\n",
       "  </thead>\n",
       "  <tbody>\n",
       "    <tr>\n",
       "      <th>0</th>\n",
       "      <td>Alabama</td>\n",
       "      <td>Jefferson</td>\n",
       "      <td>01/01/2020</td>\n",
       "      <td>5.4</td>\n",
       "      <td>0</td>\n",
       "    </tr>\n",
       "    <tr>\n",
       "      <th>1</th>\n",
       "      <td>Alabama</td>\n",
       "      <td>Jefferson</td>\n",
       "      <td>01/02/2020</td>\n",
       "      <td>5.9</td>\n",
       "      <td>1</td>\n",
       "    </tr>\n",
       "    <tr>\n",
       "      <th>2</th>\n",
       "      <td>Alabama</td>\n",
       "      <td>Jefferson</td>\n",
       "      <td>01/03/2020</td>\n",
       "      <td>5.5</td>\n",
       "      <td>2</td>\n",
       "    </tr>\n",
       "    <tr>\n",
       "      <th>3</th>\n",
       "      <td>Alabama</td>\n",
       "      <td>Jefferson</td>\n",
       "      <td>01/04/2020</td>\n",
       "      <td>5.3</td>\n",
       "      <td>3</td>\n",
       "    </tr>\n",
       "    <tr>\n",
       "      <th>4</th>\n",
       "      <td>Alabama</td>\n",
       "      <td>Jefferson</td>\n",
       "      <td>01/05/2020</td>\n",
       "      <td>5.4</td>\n",
       "      <td>4</td>\n",
       "    </tr>\n",
       "  </tbody>\n",
       "</table>\n",
       "</div>"
      ],
      "text/plain": [
       "     STATE     COUNTY        Date  Daily Mean PM2.5 Concentration  \\\n",
       "0  Alabama  Jefferson  01/01/2020                             5.4   \n",
       "1  Alabama  Jefferson  01/02/2020                             5.9   \n",
       "2  Alabama  Jefferson  01/03/2020                             5.5   \n",
       "3  Alabama  Jefferson  01/04/2020                             5.3   \n",
       "4  Alabama  Jefferson  01/05/2020                             5.4   \n",
       "\n",
       "   Dias desde 01/01/2020  \n",
       "0                      0  \n",
       "1                      1  \n",
       "2                      2  \n",
       "3                      3  \n",
       "4                      4  "
      ]
     },
     "execution_count": 602,
     "metadata": {},
     "output_type": "execute_result"
    }
   ],
   "source": [
    "Directorio = 'DatosPM2.5/'\n",
    "almacenarVar = False\n",
    "\n",
    "PM25Dia = pd.DataFrame()\n",
    "for i in range(51):\n",
    "            \n",
    "    #Lectura para datos promedios diarios para cada condado\n",
    "    PMC = (pd.read_csv(Directorio+'ad_viz_plotval_data ('+str(i+1)+').csv')\n",
    "           .set_index(['STATE','COUNTY'])[['Date','Daily Mean PM2.5 Concentration']])\n",
    "    \n",
    "    dias = []\n",
    "    for i in pd.to_datetime(PMC['Date']):\n",
    "        dias.append((i-np.datetime64('2020-01-01')).days)\n",
    "    \n",
    "    PMC['Dias desde 01/01/2020'] = dias\n",
    "    \n",
    "    PM25Dia = PM25Dia.append(PMC)\n",
    "    \n",
    "    # Paso opcional por si se quiere almacenar en variables diferentes cada información por estado\n",
    "    if almacenarVar:\n",
    "        estado = str(PMC.index[0][0])\n",
    "        estado = estado.split()\n",
    "        if len(estado)>1:\n",
    "            estado = [estado[0]+'_'+estado[1]]\n",
    "        estado = estado[0]\n",
    "        globals()['PM_%s'%estado]=PMC\n",
    "    \n",
    "    \n",
    "    \n",
    "PM25Dia = PM25Dia.reset_index()\n",
    "PM25Dia.head()"
   ]
  },
  {
   "cell_type": "markdown",
   "metadata": {},
   "source": [
    "## Datos Mortalidad COVID-19 Diarios"
   ]
  },
  {
   "cell_type": "code",
   "execution_count": 603,
   "metadata": {},
   "outputs": [],
   "source": [
    "# Limpieza de datos para obtenes solo casos dentro de estados federales \n",
    "COVCasesD = pd.DataFrame(cvaCUS.dropna().set_index(['Province_State','Admin2']))\n",
    "# COVCases.columns = ['CASOS']\n",
    "\n",
    "COVDeathsD = pd.DataFrame(cvaDUS.dropna().set_index(['Province_State','Admin2']))\n",
    "# COVDeaths.columns = ['MUERTES']\n",
    "\n",
    "COVDeathsD = COVDeathsD.iloc[:, 10:]\n",
    "COVCasesD = COVCasesD.iloc[:, 9:]\n",
    "\n",
    "dias=[]\n",
    "for i in range(len(COVDeathsD.T)):\n",
    "    dias.append(str((pd.to_datetime(COVDeathsD.T.index[i]) - np.datetime64('2020-01-01')).days))\n",
    "    \n",
    "MortalidadPerCountyDay = COVDeathsD/COVCasesD\n",
    "MortalidadPerCountyDay.columns = dias\n",
    "\n",
    "# Eliminar datos que categorizados como 'Unassigned' y \n",
    "MortalidadPerCountyDay = MortalidadPerCountyDay.drop('Unassigned', level='Admin2')\n",
    "\n",
    "# print('Las columnas representan los dias desde el 01-01-2020')\n",
    "\n",
    "Estado = []\n",
    "Condado = []\n",
    "Dia = []\n",
    "Mortalidad = []\n",
    "\n",
    "for i in range(len(MortalidadPerCountyDay)):\n",
    "    for j in range(len(MortalidadPerCountyDay.T)):\n",
    "        Estado.append(MortalidadPerCountyDay.index[i][0])\n",
    "        Condado.append(MortalidadPerCountyDay.index[i][1])\n",
    "        Dia.append(MortalidadPerCountyDay.T.index[j])\n",
    "        Mortalidad.append(MortalidadPerCountyDay.iloc[i,j])\n",
    "\n",
    "PMStateCountyMort = pd.DataFrame()\n",
    "PMStateCountyMort['Estado'] = Estado\n",
    "PMStateCountyMort['Condado'] = Condado\n",
    "PMStateCountyMort['Dias desde 1/1/2020'] = pd.to_numeric(Dia)\n",
    "PMStateCountyMort['Mortalidad'] = pd.to_numeric(Mortalidad)\n",
    "PMStateCountyMort[str(DiasAntesPM) + 'dias antes'] = PMStateCountyMort['Dias desde 1/1/2020']-DiasAntesPM\n",
    "\n",
    "PMStateCountyMort.dropna(inplace=True)"
   ]
  },
  {
   "cell_type": "code",
   "execution_count": 604,
   "metadata": {},
   "outputs": [
    {
     "data": {
      "text/html": [
       "<div>\n",
       "<style scoped>\n",
       "    .dataframe tbody tr th:only-of-type {\n",
       "        vertical-align: middle;\n",
       "    }\n",
       "\n",
       "    .dataframe tbody tr th {\n",
       "        vertical-align: top;\n",
       "    }\n",
       "\n",
       "    .dataframe thead th {\n",
       "        text-align: right;\n",
       "    }\n",
       "</style>\n",
       "<table border=\"1\" class=\"dataframe\">\n",
       "  <thead>\n",
       "    <tr style=\"text-align: right;\">\n",
       "      <th></th>\n",
       "      <th>Estado</th>\n",
       "      <th>Condado</th>\n",
       "      <th>Dias desde 1/1/2020</th>\n",
       "      <th>Mortalidad</th>\n",
       "      <th>60dias antes</th>\n",
       "    </tr>\n",
       "  </thead>\n",
       "  <tbody>\n",
       "    <tr>\n",
       "      <th>62</th>\n",
       "      <td>Alabama</td>\n",
       "      <td>Autauga</td>\n",
       "      <td>83</td>\n",
       "      <td>0.0</td>\n",
       "      <td>23</td>\n",
       "    </tr>\n",
       "    <tr>\n",
       "      <th>63</th>\n",
       "      <td>Alabama</td>\n",
       "      <td>Autauga</td>\n",
       "      <td>84</td>\n",
       "      <td>0.0</td>\n",
       "      <td>24</td>\n",
       "    </tr>\n",
       "    <tr>\n",
       "      <th>64</th>\n",
       "      <td>Alabama</td>\n",
       "      <td>Autauga</td>\n",
       "      <td>85</td>\n",
       "      <td>0.0</td>\n",
       "      <td>25</td>\n",
       "    </tr>\n",
       "    <tr>\n",
       "      <th>65</th>\n",
       "      <td>Alabama</td>\n",
       "      <td>Autauga</td>\n",
       "      <td>86</td>\n",
       "      <td>0.0</td>\n",
       "      <td>26</td>\n",
       "    </tr>\n",
       "    <tr>\n",
       "      <th>66</th>\n",
       "      <td>Alabama</td>\n",
       "      <td>Autauga</td>\n",
       "      <td>87</td>\n",
       "      <td>0.0</td>\n",
       "      <td>27</td>\n",
       "    </tr>\n",
       "    <tr>\n",
       "      <th>...</th>\n",
       "      <td>...</td>\n",
       "      <td>...</td>\n",
       "      <td>...</td>\n",
       "      <td>...</td>\n",
       "      <td>...</td>\n",
       "    </tr>\n",
       "    <tr>\n",
       "      <th>376015</th>\n",
       "      <td>Utah</td>\n",
       "      <td>Out of UT</td>\n",
       "      <td>88</td>\n",
       "      <td>0.0</td>\n",
       "      <td>28</td>\n",
       "    </tr>\n",
       "    <tr>\n",
       "      <th>376016</th>\n",
       "      <td>Utah</td>\n",
       "      <td>Out of UT</td>\n",
       "      <td>89</td>\n",
       "      <td>0.0</td>\n",
       "      <td>29</td>\n",
       "    </tr>\n",
       "    <tr>\n",
       "      <th>376017</th>\n",
       "      <td>Utah</td>\n",
       "      <td>Out of UT</td>\n",
       "      <td>90</td>\n",
       "      <td>0.0</td>\n",
       "      <td>30</td>\n",
       "    </tr>\n",
       "    <tr>\n",
       "      <th>376018</th>\n",
       "      <td>Utah</td>\n",
       "      <td>Out of UT</td>\n",
       "      <td>91</td>\n",
       "      <td>0.0</td>\n",
       "      <td>31</td>\n",
       "    </tr>\n",
       "    <tr>\n",
       "      <th>376019</th>\n",
       "      <td>Utah</td>\n",
       "      <td>Out of UT</td>\n",
       "      <td>92</td>\n",
       "      <td>0.0</td>\n",
       "      <td>32</td>\n",
       "    </tr>\n",
       "  </tbody>\n",
       "</table>\n",
       "<p>152960 rows × 5 columns</p>\n",
       "</div>"
      ],
      "text/plain": [
       "         Estado    Condado  Dias desde 1/1/2020  Mortalidad  60dias antes\n",
       "62      Alabama    Autauga                   83         0.0            23\n",
       "63      Alabama    Autauga                   84         0.0            24\n",
       "64      Alabama    Autauga                   85         0.0            25\n",
       "65      Alabama    Autauga                   86         0.0            26\n",
       "66      Alabama    Autauga                   87         0.0            27\n",
       "...         ...        ...                  ...         ...           ...\n",
       "376015     Utah  Out of UT                   88         0.0            28\n",
       "376016     Utah  Out of UT                   89         0.0            29\n",
       "376017     Utah  Out of UT                   90         0.0            30\n",
       "376018     Utah  Out of UT                   91         0.0            31\n",
       "376019     Utah  Out of UT                   92         0.0            32\n",
       "\n",
       "[152960 rows x 5 columns]"
      ]
     },
     "execution_count": 604,
     "metadata": {},
     "output_type": "execute_result"
    }
   ],
   "source": [
    "PMStateCountyMort[PMStateCountyMort[str(DiasAntesPM)+'dias antes']>0]"
   ]
  },
  {
   "cell_type": "markdown",
   "metadata": {},
   "source": [
    "## Union datos PM dias antes y mortalidad COVID actual y calculo de correlacion"
   ]
  },
  {
   "cell_type": "code",
   "execution_count": 605,
   "metadata": {},
   "outputs": [
    {
     "name": "stdout",
     "output_type": "stream",
     "text": [
      "KendalltauResult(correlation=0.0680435770217706, pvalue=2.597702281127953e-69)\n",
      "SpearmanrResult(correlation=0.0969138077751453, pvalue=6.000044743484613e-70)\n",
      "Análisis con datos de PM2.5 medidos 60 dias antes\n",
      "Datos: 33126 \n",
      "R: 0.017782384450117854 \n",
      "P_Value: 0.0012095205677354643\n"
     ]
    }
   ],
   "source": [
    "DataCorSpaceAndTime = (pd.merge(PM25Dia, PMStateCountyMort, how = 'inner', left_on=['STATE','COUNTY','Dias desde 01/01/2020'], right_on = ['Estado','Condado',str(DiasAntesPM)+'dias antes'])\n",
    "                       .drop(['STATE','COUNTY','Date',str(DiasAntesPM)+'dias antes'], axis=1)\n",
    "                       .set_index(['Estado','Condado']))\n",
    "\n",
    "DataCorSpaceAndTime.columns =['PM2.5 '+str(DiasAntesPM)+' dias antes','Dias desde 01/01/2020 PM 2.5','Dias desde 01/01/2020 COVID','Mortalidad']\n",
    "\n",
    "\n",
    "# Elimino todos las celdas en donde \n",
    "DataCorSpaceAndTime = DataCorSpaceAndTime.replace([np.inf, -np.inf], np.nan).dropna()\n",
    "\n",
    "# Cambio valores de PM2.5 negativos por 0\n",
    "DataCorSpaceAndTime[DataCorSpaceAndTime['PM2.5 '+str(DiasAntesPM)+' dias antes'] < 0] = 0\n",
    "\n",
    "# Agrupo todas las mediciones de diferentes estaciones dentro de un mismo condado en una medicion promedio diario\n",
    "DataCorSpaceAndTime = DataCorSpaceAndTime.groupby([DataCorSpaceAndTime.index,'Dias desde 01/01/2020 COVID']).mean()\n",
    "\n",
    "# Calculo de valores de asociacion estadistica\n",
    "R, Pvalue = scipy.stats.pearsonr(DataCorSpaceAndTime.Mortalidad, DataCorSpaceAndTime['PM2.5 '+str(DiasAntesPM)+' dias antes'])\n",
    "print(scipy.stats.kendalltau(DataCorSpaceAndTime.Mortalidad, DataCorSpaceAndTime['PM2.5 '+str(DiasAntesPM)+' dias antes']))\n",
    "print(scipy.stats.spearmanr(DataCorSpaceAndTime.Mortalidad, DataCorSpaceAndTime['PM2.5 '+str(DiasAntesPM)+' dias antes']))\n",
    "print('Análisis con datos de PM2.5 medidos '+str(DiasAntesPM)+' dias antes\\nDatos:',str(len(DataCorSpaceAndTime)),'\\nR:',R,'\\nP_Value:',Pvalue)"
   ]
  },
  {
   "cell_type": "markdown",
   "metadata": {},
   "source": [
    "# NO se evidencia una asociacion clara espacio-temporal con datos diarios"
   ]
  },
  {
   "cell_type": "markdown",
   "metadata": {},
   "source": [
    "# Ensayos GLM con $Statsmodels$"
   ]
  },
  {
   "cell_type": "code",
   "execution_count": 606,
   "metadata": {},
   "outputs": [],
   "source": [
    "import statsmodels.api as sm\n",
    "import statsmodels as SM"
   ]
  },
  {
   "cell_type": "code",
   "execution_count": 607,
   "metadata": {},
   "outputs": [
    {
     "data": {
      "text/plain": [
       "array([ 1.81907939, -0.56422037])"
      ]
     },
     "execution_count": 607,
     "metadata": {},
     "output_type": "execute_result"
    }
   ],
   "source": [
    "GLMres = sm.GLM(np.array(COVyPM3Month[COVyPM3Month.MORTALIDAD<1].groupby(['Estado','Condado']).mean().drop(['Mes','Año'], axis=1)['MORTALIDAD']),\n",
    "      np.array([COVyPM3Month[COVyPM3Month.MORTALIDAD<1].groupby(['Estado','Condado']).mean().drop(['Mes','Año'], axis=1)['PM 2.5'],COVyPM3Month[COVyPM3Month.MORTALIDAD<1].groupby(['Estado','Condado']).mean().drop(['Mes','Año'], axis=1)['AQI']]).T\n",
    "      , family = sm.families.NegativeBinomial()).fit()\n",
    "\n",
    "GLMres.params"
   ]
  },
  {
   "cell_type": "code",
   "execution_count": 608,
   "metadata": {},
   "outputs": [
    {
     "data": {
      "text/plain": [
       "PM 2.5   -0.482938\n",
       "dtype: float64"
      ]
     },
     "execution_count": 608,
     "metadata": {},
     "output_type": "execute_result"
    }
   ],
   "source": [
    "GLMres = sm.GLM(COVyPM3Month[COVyPM3Month.MORTALIDAD<1].groupby(['Estado','Condado']).mean().drop(['Mes','Año'], axis=1)['MORTALIDAD'],\n",
    "      COVyPM3Month[COVyPM3Month.MORTALIDAD<1].groupby(['Estado','Condado']).mean().drop(['Mes','Año'], axis=1)['PM 2.5'],\n",
    "      family = sm.families.NegativeBinomial()).fit()\n",
    "\n",
    "GLMres.params"
   ]
  },
  {
   "cell_type": "code",
   "execution_count": 609,
   "metadata": {},
   "outputs": [
    {
     "data": {
      "text/plain": [
       "[<matplotlib.lines.Line2D at 0x1dae07c87c8>]"
      ]
     },
     "execution_count": 609,
     "metadata": {},
     "output_type": "execute_result"
    },
    {
     "data": {
      "image/png": "[encoded data removed]",
      "text/plain": [
       "<Figure size 432x288 with 1 Axes>"
      ]
     },
     "metadata": {
      "needs_background": "light"
     },
     "output_type": "display_data"
    }
   ],
   "source": [
    "from scipy.optimize import curve_fit\n",
    "\n",
    "def reg(x,m,b):\n",
    "    return m*x+b\n",
    "\n",
    "aj, cov = curve_fit(reg,COVyPM3Month[COVyPM3Month.MORTALIDAD<1].groupby(['Estado','Condado']).mean().drop(['Mes','Año'], axis=1)['MORTALIDAD'],COVyPM3Month[COVyPM3Month.MORTALIDAD<1].groupby(['Estado','Condado']).mean().drop(['Mes','Año'], axis=1)['PM 2.5'])\n",
    "\n",
    "    \n",
    "plt.scatter(COVyPM3Month[COVyPM3Month.MORTALIDAD<1].groupby(['Estado','Condado']).mean().drop(['Mes','Año'], axis=1)['MORTALIDAD'], COVyPM3Month[COVyPM3Month.MORTALIDAD<1].groupby(['Estado','Condado']).mean().drop(['Mes','Año'], axis=1)['PM 2.5'])\n",
    "plt.plot(COVyPM3Month[COVyPM3Month.MORTALIDAD<1].groupby(['Estado','Condado']).mean().drop(['Mes','Año'], axis=1)['MORTALIDAD'],reg(COVyPM3Month[COVyPM3Month.MORTALIDAD<1].groupby(['Estado','Condado']).mean().drop(['Mes','Año'], axis=1)['MORTALIDAD'],*aj),c='r')"
   ]
  },
  {
   "cell_type": "markdown",
   "metadata": {},
   "source": [
    "# Análisis con PM2.5 histórico\n",
    "#### De acuerdo a estudio de: Xiao Wu MS, Rachel C. Nethery PhD, M. Benjamin Sabath MA, Danielle Braun PhD, Francesca Dominici PhD"
   ]
  },
  {
   "cell_type": "code",
   "execution_count": 610,
   "metadata": {},
   "outputs": [
    {
     "data": {
      "text/html": [
       "<div>\n",
       "<style scoped>\n",
       "    .dataframe tbody tr th:only-of-type {\n",
       "        vertical-align: middle;\n",
       "    }\n",
       "\n",
       "    .dataframe tbody tr th {\n",
       "        vertical-align: top;\n",
       "    }\n",
       "\n",
       "    .dataframe thead th {\n",
       "        text-align: right;\n",
       "    }\n",
       "</style>\n",
       "<table border=\"1\" class=\"dataframe\">\n",
       "  <thead>\n",
       "    <tr style=\"text-align: right;\">\n",
       "      <th></th>\n",
       "      <th>fips</th>\n",
       "      <th>year</th>\n",
       "      <th>pm25</th>\n",
       "    </tr>\n",
       "  </thead>\n",
       "  <tbody>\n",
       "    <tr>\n",
       "      <th>14744</th>\n",
       "      <td>1001.0</td>\n",
       "      <td>2007</td>\n",
       "      <td>13.914079</td>\n",
       "    </tr>\n",
       "    <tr>\n",
       "      <th>14739</th>\n",
       "      <td>1001.0</td>\n",
       "      <td>2002</td>\n",
       "      <td>12.842160</td>\n",
       "    </tr>\n",
       "    <tr>\n",
       "      <th>14740</th>\n",
       "      <td>1001.0</td>\n",
       "      <td>2003</td>\n",
       "      <td>13.939778</td>\n",
       "    </tr>\n",
       "    <tr>\n",
       "      <th>14741</th>\n",
       "      <td>1001.0</td>\n",
       "      <td>2004</td>\n",
       "      <td>13.180523</td>\n",
       "    </tr>\n",
       "    <tr>\n",
       "      <th>14742</th>\n",
       "      <td>1001.0</td>\n",
       "      <td>2005</td>\n",
       "      <td>13.999915</td>\n",
       "    </tr>\n",
       "  </tbody>\n",
       "</table>\n",
       "</div>"
      ],
      "text/plain": [
       "         fips  year       pm25\n",
       "14744  1001.0  2007  13.914079\n",
       "14739  1001.0  2002  12.842160\n",
       "14740  1001.0  2003  13.939778\n",
       "14741  1001.0  2004  13.180523\n",
       "14742  1001.0  2005  13.999915"
      ]
     },
     "execution_count": 610,
     "metadata": {},
     "output_type": "execute_result"
    }
   ],
   "source": [
    "PM = pd.read_csv('https://raw.githubusercontent.com/wxwx1993/PM_COVID/master/Data/county_pm25.csv').sort_values('fips')\n",
    "PM.head()"
   ]
  },
  {
   "cell_type": "code",
   "execution_count": 611,
   "metadata": {},
   "outputs": [
    {
     "ename": "FileNotFoundError",
     "evalue": "[Errno 2] No such file or directory: 'county_fips_master.csv'",
     "output_type": "error",
     "traceback": [
      "\u001b[1;31m---------------------------------------------------------------------------\u001b[0m",
      "\u001b[1;31mFileNotFoundError\u001b[0m                         Traceback (most recent call last)",
      "\u001b[1;32m<ipython-input-611-43bc8475f610>\u001b[0m in \u001b[0;36m<module>\u001b[1;34m\u001b[0m\n\u001b[1;32m----> 1\u001b[1;33m \u001b[0mFIPS\u001b[0m \u001b[1;33m=\u001b[0m \u001b[0mpd\u001b[0m\u001b[1;33m.\u001b[0m\u001b[0mread_csv\u001b[0m\u001b[1;33m(\u001b[0m\u001b[1;34m'county_fips_master.csv'\u001b[0m\u001b[1;33m,\u001b[0m \u001b[0mencoding\u001b[0m \u001b[1;33m=\u001b[0m \u001b[1;34m'ISO-8859-1'\u001b[0m\u001b[1;33m)\u001b[0m\u001b[1;33m.\u001b[0m\u001b[0miloc\u001b[0m\u001b[1;33m[\u001b[0m\u001b[1;33m:\u001b[0m\u001b[1;33m,\u001b[0m\u001b[1;33m:\u001b[0m\u001b[1;36m2\u001b[0m\u001b[1;33m]\u001b[0m\u001b[1;33m\u001b[0m\u001b[1;33m\u001b[0m\u001b[0m\n\u001b[0m\u001b[0;32m      2\u001b[0m \u001b[0mFIPS\u001b[0m\u001b[1;33m.\u001b[0m\u001b[0mhead\u001b[0m\u001b[1;33m(\u001b[0m\u001b[1;33m)\u001b[0m\u001b[1;33m\u001b[0m\u001b[1;33m\u001b[0m\u001b[0m\n",
      "\u001b[1;32m~\\Anaconda3\\lib\\site-packages\\pandas\\io\\parsers.py\u001b[0m in \u001b[0;36mparser_f\u001b[1;34m(filepath_or_buffer, sep, delimiter, header, names, index_col, usecols, squeeze, prefix, mangle_dupe_cols, dtype, engine, converters, true_values, false_values, skipinitialspace, skiprows, skipfooter, nrows, na_values, keep_default_na, na_filter, verbose, skip_blank_lines, parse_dates, infer_datetime_format, keep_date_col, date_parser, dayfirst, cache_dates, iterator, chunksize, compression, thousands, decimal, lineterminator, quotechar, quoting, doublequote, escapechar, comment, encoding, dialect, error_bad_lines, warn_bad_lines, delim_whitespace, low_memory, memory_map, float_precision)\u001b[0m\n\u001b[0;32m    674\u001b[0m         )\n\u001b[0;32m    675\u001b[0m \u001b[1;33m\u001b[0m\u001b[0m\n\u001b[1;32m--> 676\u001b[1;33m         \u001b[1;32mreturn\u001b[0m \u001b[0m_read\u001b[0m\u001b[1;33m(\u001b[0m\u001b[0mfilepath_or_buffer\u001b[0m\u001b[1;33m,\u001b[0m \u001b[0mkwds\u001b[0m\u001b[1;33m)\u001b[0m\u001b[1;33m\u001b[0m\u001b[1;33m\u001b[0m\u001b[0m\n\u001b[0m\u001b[0;32m    677\u001b[0m \u001b[1;33m\u001b[0m\u001b[0m\n\u001b[0;32m    678\u001b[0m     \u001b[0mparser_f\u001b[0m\u001b[1;33m.\u001b[0m\u001b[0m__name__\u001b[0m \u001b[1;33m=\u001b[0m \u001b[0mname\u001b[0m\u001b[1;33m\u001b[0m\u001b[1;33m\u001b[0m\u001b[0m\n",
      "\u001b[1;32m~\\Anaconda3\\lib\\site-packages\\pandas\\io\\parsers.py\u001b[0m in \u001b[0;36m_read\u001b[1;34m(filepath_or_buffer, kwds)\u001b[0m\n\u001b[0;32m    446\u001b[0m \u001b[1;33m\u001b[0m\u001b[0m\n\u001b[0;32m    447\u001b[0m     \u001b[1;31m# Create the parser.\u001b[0m\u001b[1;33m\u001b[0m\u001b[1;33m\u001b[0m\u001b[1;33m\u001b[0m\u001b[0m\n\u001b[1;32m--> 448\u001b[1;33m     \u001b[0mparser\u001b[0m \u001b[1;33m=\u001b[0m \u001b[0mTextFileReader\u001b[0m\u001b[1;33m(\u001b[0m\u001b[0mfp_or_buf\u001b[0m\u001b[1;33m,\u001b[0m \u001b[1;33m**\u001b[0m\u001b[0mkwds\u001b[0m\u001b[1;33m)\u001b[0m\u001b[1;33m\u001b[0m\u001b[1;33m\u001b[0m\u001b[0m\n\u001b[0m\u001b[0;32m    449\u001b[0m \u001b[1;33m\u001b[0m\u001b[0m\n\u001b[0;32m    450\u001b[0m     \u001b[1;32mif\u001b[0m \u001b[0mchunksize\u001b[0m \u001b[1;32mor\u001b[0m \u001b[0miterator\u001b[0m\u001b[1;33m:\u001b[0m\u001b[1;33m\u001b[0m\u001b[1;33m\u001b[0m\u001b[0m\n",
      "\u001b[1;32m~\\Anaconda3\\lib\\site-packages\\pandas\\io\\parsers.py\u001b[0m in \u001b[0;36m__init__\u001b[1;34m(self, f, engine, **kwds)\u001b[0m\n\u001b[0;32m    878\u001b[0m             \u001b[0mself\u001b[0m\u001b[1;33m.\u001b[0m\u001b[0moptions\u001b[0m\u001b[1;33m[\u001b[0m\u001b[1;34m\"has_index_names\"\u001b[0m\u001b[1;33m]\u001b[0m \u001b[1;33m=\u001b[0m \u001b[0mkwds\u001b[0m\u001b[1;33m[\u001b[0m\u001b[1;34m\"has_index_names\"\u001b[0m\u001b[1;33m]\u001b[0m\u001b[1;33m\u001b[0m\u001b[1;33m\u001b[0m\u001b[0m\n\u001b[0;32m    879\u001b[0m \u001b[1;33m\u001b[0m\u001b[0m\n\u001b[1;32m--> 880\u001b[1;33m         \u001b[0mself\u001b[0m\u001b[1;33m.\u001b[0m\u001b[0m_make_engine\u001b[0m\u001b[1;33m(\u001b[0m\u001b[0mself\u001b[0m\u001b[1;33m.\u001b[0m\u001b[0mengine\u001b[0m\u001b[1;33m)\u001b[0m\u001b[1;33m\u001b[0m\u001b[1;33m\u001b[0m\u001b[0m\n\u001b[0m\u001b[0;32m    881\u001b[0m \u001b[1;33m\u001b[0m\u001b[0m\n\u001b[0;32m    882\u001b[0m     \u001b[1;32mdef\u001b[0m \u001b[0mclose\u001b[0m\u001b[1;33m(\u001b[0m\u001b[0mself\u001b[0m\u001b[1;33m)\u001b[0m\u001b[1;33m:\u001b[0m\u001b[1;33m\u001b[0m\u001b[1;33m\u001b[0m\u001b[0m\n",
      "\u001b[1;32m~\\Anaconda3\\lib\\site-packages\\pandas\\io\\parsers.py\u001b[0m in \u001b[0;36m_make_engine\u001b[1;34m(self, engine)\u001b[0m\n\u001b[0;32m   1112\u001b[0m     \u001b[1;32mdef\u001b[0m \u001b[0m_make_engine\u001b[0m\u001b[1;33m(\u001b[0m\u001b[0mself\u001b[0m\u001b[1;33m,\u001b[0m \u001b[0mengine\u001b[0m\u001b[1;33m=\u001b[0m\u001b[1;34m\"c\"\u001b[0m\u001b[1;33m)\u001b[0m\u001b[1;33m:\u001b[0m\u001b[1;33m\u001b[0m\u001b[1;33m\u001b[0m\u001b[0m\n\u001b[0;32m   1113\u001b[0m         \u001b[1;32mif\u001b[0m \u001b[0mengine\u001b[0m \u001b[1;33m==\u001b[0m \u001b[1;34m\"c\"\u001b[0m\u001b[1;33m:\u001b[0m\u001b[1;33m\u001b[0m\u001b[1;33m\u001b[0m\u001b[0m\n\u001b[1;32m-> 1114\u001b[1;33m             \u001b[0mself\u001b[0m\u001b[1;33m.\u001b[0m\u001b[0m_engine\u001b[0m \u001b[1;33m=\u001b[0m \u001b[0mCParserWrapper\u001b[0m\u001b[1;33m(\u001b[0m\u001b[0mself\u001b[0m\u001b[1;33m.\u001b[0m\u001b[0mf\u001b[0m\u001b[1;33m,\u001b[0m \u001b[1;33m**\u001b[0m\u001b[0mself\u001b[0m\u001b[1;33m.\u001b[0m\u001b[0moptions\u001b[0m\u001b[1;33m)\u001b[0m\u001b[1;33m\u001b[0m\u001b[1;33m\u001b[0m\u001b[0m\n\u001b[0m\u001b[0;32m   1115\u001b[0m         \u001b[1;32melse\u001b[0m\u001b[1;33m:\u001b[0m\u001b[1;33m\u001b[0m\u001b[1;33m\u001b[0m\u001b[0m\n\u001b[0;32m   1116\u001b[0m             \u001b[1;32mif\u001b[0m \u001b[0mengine\u001b[0m \u001b[1;33m==\u001b[0m \u001b[1;34m\"python\"\u001b[0m\u001b[1;33m:\u001b[0m\u001b[1;33m\u001b[0m\u001b[1;33m\u001b[0m\u001b[0m\n",
      "\u001b[1;32m~\\Anaconda3\\lib\\site-packages\\pandas\\io\\parsers.py\u001b[0m in \u001b[0;36m__init__\u001b[1;34m(self, src, **kwds)\u001b[0m\n\u001b[0;32m   1872\u001b[0m         \u001b[1;32mif\u001b[0m \u001b[0mkwds\u001b[0m\u001b[1;33m.\u001b[0m\u001b[0mget\u001b[0m\u001b[1;33m(\u001b[0m\u001b[1;34m\"compression\"\u001b[0m\u001b[1;33m)\u001b[0m \u001b[1;32mis\u001b[0m \u001b[1;32mNone\u001b[0m \u001b[1;32mand\u001b[0m \u001b[0mencoding\u001b[0m\u001b[1;33m:\u001b[0m\u001b[1;33m\u001b[0m\u001b[1;33m\u001b[0m\u001b[0m\n\u001b[0;32m   1873\u001b[0m             \u001b[1;32mif\u001b[0m \u001b[0misinstance\u001b[0m\u001b[1;33m(\u001b[0m\u001b[0msrc\u001b[0m\u001b[1;33m,\u001b[0m \u001b[0mstr\u001b[0m\u001b[1;33m)\u001b[0m\u001b[1;33m:\u001b[0m\u001b[1;33m\u001b[0m\u001b[1;33m\u001b[0m\u001b[0m\n\u001b[1;32m-> 1874\u001b[1;33m                 \u001b[0msrc\u001b[0m \u001b[1;33m=\u001b[0m \u001b[0mopen\u001b[0m\u001b[1;33m(\u001b[0m\u001b[0msrc\u001b[0m\u001b[1;33m,\u001b[0m \u001b[1;34m\"rb\"\u001b[0m\u001b[1;33m)\u001b[0m\u001b[1;33m\u001b[0m\u001b[1;33m\u001b[0m\u001b[0m\n\u001b[0m\u001b[0;32m   1875\u001b[0m                 \u001b[0mself\u001b[0m\u001b[1;33m.\u001b[0m\u001b[0mhandles\u001b[0m\u001b[1;33m.\u001b[0m\u001b[0mappend\u001b[0m\u001b[1;33m(\u001b[0m\u001b[0msrc\u001b[0m\u001b[1;33m)\u001b[0m\u001b[1;33m\u001b[0m\u001b[1;33m\u001b[0m\u001b[0m\n\u001b[0;32m   1876\u001b[0m \u001b[1;33m\u001b[0m\u001b[0m\n",
      "\u001b[1;31mFileNotFoundError\u001b[0m: [Errno 2] No such file or directory: 'county_fips_master.csv'"
     ]
    }
   ],
   "source": [
    "FIPS = pd.read_csv('county_fips_master.csv', encoding = 'ISO-8859-1').iloc[:,:2]\n",
    "FIPS.head()"
   ]
  },
  {
   "cell_type": "code",
   "execution_count": null,
   "metadata": {},
   "outputs": [],
   "source": [
    "DF = pd.merge(FIPS, PM, left_on = 'fips', right_on = 'fips')\n",
    "DF"
   ]
  },
  {
   "cell_type": "code",
   "execution_count": null,
   "metadata": {},
   "outputs": [],
   "source": [
    "PM25perCountyHistoric = DF.apply(lambda df : pd.Series({'FIPS':df['fips'],'Condado' : df['county_name'][:-7],'PM25' : df['pm25']}), axis = 1).groupby(['FIPS','Condado']).mean()"
   ]
  },
  {
   "cell_type": "code",
   "execution_count": null,
   "metadata": {},
   "outputs": [],
   "source": [
    "PM25Historico = PM25perCountyHistoric.reset_index()\n",
    "PM25Historico"
   ]
  },
  {
   "cell_type": "code",
   "execution_count": null,
   "metadata": {},
   "outputs": [],
   "source": [
    "DFPMHistoricoMortalidad = pd.merge(COV, PM25Historico, left_on = 'FIPS', right_on = 'FIPS').drop(['CASOS','MUERTES','FIPS','Condado_y'],axis=1).set_index(['Estado','Condado_x']).dropna()\n",
    "R,Pv = scipy.stats.pearsonr(DFPMHistoricoMortalidad['MORTALIDAD'][DFPMHistoricoMortalidad.MORTALIDAD<1],DFPMHistoricoMortalidad['PM25'][DFPMHistoricoMortalidad.MORTALIDAD<1])\n",
    "print('Coef. Pearson para datos históricos utilizados por estudio:', R,'. Con p-value de :',Pv)\n",
    "sns.regplot(DFPMHistoricoMortalidad['MORTALIDAD'][DFPMHistoricoMortalidad.MORTALIDAD<1],DFPMHistoricoMortalidad['PM25'][DFPMHistoricoMortalidad.MORTALIDAD<1],color='darkred',scatter_kws=dict(alpha=0.35,edgecolor='white')\n",
    "            ,ci=95)"
   ]
  },
  {
   "cell_type": "code",
   "execution_count": null,
   "metadata": {},
   "outputs": [],
   "source": []
  },
  {
   "cell_type": "code",
   "execution_count": null,
   "metadata": {},
   "outputs": [],
   "source": []
  },
  {
   "cell_type": "code",
   "execution_count": null,
   "metadata": {},
   "outputs": [],
   "source": []
  },
  {
   "cell_type": "code",
   "execution_count": null,
   "metadata": {},
   "outputs": [],
   "source": []
  }
 ],
 "metadata": {
  "kernelspec": {
   "display_name": "Python 3",
   "language": "python",
   "name": "python3"
  },
  "language_info": {
   "codemirror_mode": {
    "name": "ipython",
    "version": 3
   },
   "file_extension": ".py",
   "mimetype": "text/x-python",
   "name": "python",
   "nbconvert_exporter": "python",
   "pygments_lexer": "ipython3",
   "version": "3.7.6"
  }
 },
 "nbformat": 4,
 "nbformat_minor": 4
}

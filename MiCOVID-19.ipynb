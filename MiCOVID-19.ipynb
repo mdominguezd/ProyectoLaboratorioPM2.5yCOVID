{
 "cells": [
  {
   "cell_type": "code",
   "execution_count": 74,
   "metadata": {},
   "outputs": [],
   "source": [
    "import pandas as pd\n",
    "import numpy as np\n",
    "import seaborn as sns\n",
    "import matplotlib.pyplot as plt\n",
    "from scipy.optimize import curve_fit\n",
    "from datetime import date\n",
    "from datetime import datetime\n",
    "import scipy.stats"
   ]
  },
  {
   "cell_type": "markdown",
   "metadata": {},
   "source": [
    "# Lectura de datos de COVID-19"
   ]
  },
  {
   "cell_type": "code",
   "execution_count": 75,
   "metadata": {},
   "outputs": [],
   "source": [
    "# Lectura de datos\n",
    "DataSource='https://raw.githubusercontent.com/CSSEGISandData/COVID-19/'\n",
    "DataFileDUS='master/csse_covid_19_data/csse_covid_19_time_series/time_series_covid19_deaths_US.csv' #Muertes en Estados unidos\n",
    "DataFileCUS='master/csse_covid_19_data/csse_covid_19_time_series/time_series_covid19_confirmed_US.csv' #Casos confirmados en estados unidos\n",
    "\n",
    "cvaDUS = pd.read_csv('{}{}'.format(DataSource,DataFileDUS))\n",
    "cvaCUS = pd.read_csv('{}{}'.format(DataSource,DataFileCUS))"
   ]
  },
  {
   "cell_type": "code",
   "execution_count": 76,
   "metadata": {},
   "outputs": [
    {
     "data": {
      "text/plain": [
       "'5/3/20'"
      ]
     },
     "execution_count": 76,
     "metadata": {},
     "output_type": "execute_result"
    }
   ],
   "source": [
    "# Obtencion de fecha del día de ayer para iniciar análisis con datos del último día\n",
    "d = date.today()\n",
    "AYER = str(d.month)+'/'+str(d.day-1)+'/'+str(d.year)[-2:]\n",
    "AYER"
   ]
  },
  {
   "cell_type": "code",
   "execution_count": 77,
   "metadata": {},
   "outputs": [
    {
     "name": "stdout",
     "output_type": "stream",
     "text": [
      "Casos hasta ayer en USA: 1158040 \n",
      "Muertes hasta ayer en USA: 67682\n"
     ]
    }
   ],
   "source": [
    "# Datos provistos por CSSE de la universidad de Johns Hopkins\n",
    "print('Casos hasta ayer en USA:',cvaCUS[AYER].sum(),'\\nMuertes hasta ayer en USA:',cvaDUS[AYER].sum())"
   ]
  },
  {
   "cell_type": "markdown",
   "metadata": {},
   "source": [
    "# Limpieza de datos de COVID-19"
   ]
  },
  {
   "cell_type": "code",
   "execution_count": 78,
   "metadata": {},
   "outputs": [
    {
     "name": "stdout",
     "output_type": "stream",
     "text": [
      "Casos sin asignar que se eliminaron:\n",
      "CASOS      4905\n",
      "MUERTES     531\n",
      "dtype: int64\n"
     ]
    },
    {
     "data": {
      "text/html": [
       "<div>\n",
       "<style scoped>\n",
       "    .dataframe tbody tr th:only-of-type {\n",
       "        vertical-align: middle;\n",
       "    }\n",
       "\n",
       "    .dataframe tbody tr th {\n",
       "        vertical-align: top;\n",
       "    }\n",
       "\n",
       "    .dataframe thead th {\n",
       "        text-align: right;\n",
       "    }\n",
       "</style>\n",
       "<table border=\"1\" class=\"dataframe\">\n",
       "  <thead>\n",
       "    <tr style=\"text-align: right;\">\n",
       "      <th></th>\n",
       "      <th></th>\n",
       "      <th>CASOS</th>\n",
       "      <th>MUERTES</th>\n",
       "    </tr>\n",
       "    <tr>\n",
       "      <th>Estado</th>\n",
       "      <th>Condado</th>\n",
       "      <th></th>\n",
       "      <th></th>\n",
       "    </tr>\n",
       "  </thead>\n",
       "  <tbody>\n",
       "    <tr>\n",
       "      <th rowspan=\"5\" valign=\"top\">Alabama</th>\n",
       "      <th>Autauga</th>\n",
       "      <td>48</td>\n",
       "      <td>3</td>\n",
       "    </tr>\n",
       "    <tr>\n",
       "      <th>Baldwin</th>\n",
       "      <td>187</td>\n",
       "      <td>4</td>\n",
       "    </tr>\n",
       "    <tr>\n",
       "      <th>Barbour</th>\n",
       "      <td>45</td>\n",
       "      <td>1</td>\n",
       "    </tr>\n",
       "    <tr>\n",
       "      <th>Bibb</th>\n",
       "      <td>43</td>\n",
       "      <td>0</td>\n",
       "    </tr>\n",
       "    <tr>\n",
       "      <th>Blount</th>\n",
       "      <td>40</td>\n",
       "      <td>0</td>\n",
       "    </tr>\n",
       "    <tr>\n",
       "      <th>...</th>\n",
       "      <th>...</th>\n",
       "      <td>...</td>\n",
       "      <td>...</td>\n",
       "    </tr>\n",
       "    <tr>\n",
       "      <th>Virginia</th>\n",
       "      <th>Out of VA</th>\n",
       "      <td>0</td>\n",
       "      <td>0</td>\n",
       "    </tr>\n",
       "    <tr>\n",
       "      <th>Washington</th>\n",
       "      <th>Out of WA</th>\n",
       "      <td>0</td>\n",
       "      <td>0</td>\n",
       "    </tr>\n",
       "    <tr>\n",
       "      <th>West Virginia</th>\n",
       "      <th>Out of WV</th>\n",
       "      <td>0</td>\n",
       "      <td>0</td>\n",
       "    </tr>\n",
       "    <tr>\n",
       "      <th>Wisconsin</th>\n",
       "      <th>Out of WI</th>\n",
       "      <td>0</td>\n",
       "      <td>0</td>\n",
       "    </tr>\n",
       "    <tr>\n",
       "      <th>Wyoming</th>\n",
       "      <th>Out of WY</th>\n",
       "      <td>0</td>\n",
       "      <td>0</td>\n",
       "    </tr>\n",
       "  </tbody>\n",
       "</table>\n",
       "<p>3193 rows × 2 columns</p>\n",
       "</div>"
      ],
      "text/plain": [
       "                         CASOS  MUERTES\n",
       "Estado        Condado                  \n",
       "Alabama       Autauga       48        3\n",
       "              Baldwin      187        4\n",
       "              Barbour       45        1\n",
       "              Bibb          43        0\n",
       "              Blount        40        0\n",
       "...                        ...      ...\n",
       "Virginia      Out of VA      0        0\n",
       "Washington    Out of WA      0        0\n",
       "West Virginia Out of WV      0        0\n",
       "Wisconsin     Out of WI      0        0\n",
       "Wyoming       Out of WY      0        0\n",
       "\n",
       "[3193 rows x 2 columns]"
      ]
     },
     "execution_count": 78,
     "metadata": {},
     "output_type": "execute_result"
    }
   ],
   "source": [
    "# Limpieza de datos para obtenes solo casos dentro de estados federales \n",
    "COVCases = pd.DataFrame(cvaCUS.dropna().set_index(['Province_State','Admin2'])[AYER])\n",
    "COVCases.columns = ['CASOS']\n",
    "\n",
    "COVDeaths = pd.DataFrame(cvaDUS.dropna().set_index(['Province_State','Admin2'])[AYER])\n",
    "COVDeaths.columns = ['MUERTES']\n",
    "\n",
    "# Eliminar datos que categorizados como 'Unassigned'\n",
    "COV = pd.merge(COVCases, COVDeaths, how = 'inner', left_index=True, right_index=True)\n",
    "print('Casos sin asignar que se eliminaron:\\n'+str(COV.xs('Unassigned', level='Admin2').sum()))\n",
    "COV = COV.drop('Unassigned', level='Admin2')\n",
    "COV.index.names = ['Estado', 'Condado']\n",
    "COV"
   ]
  },
  {
   "cell_type": "markdown",
   "metadata": {},
   "source": [
    "# Cálculo de Mortalidad\n",
    "$$ Mortalidad = \\frac{Muertes}{Casos}  $$"
   ]
  },
  {
   "cell_type": "code",
   "execution_count": 79,
   "metadata": {},
   "outputs": [
    {
     "data": {
      "text/html": [
       "<div>\n",
       "<style scoped>\n",
       "    .dataframe tbody tr th:only-of-type {\n",
       "        vertical-align: middle;\n",
       "    }\n",
       "\n",
       "    .dataframe tbody tr th {\n",
       "        vertical-align: top;\n",
       "    }\n",
       "\n",
       "    .dataframe thead th {\n",
       "        text-align: right;\n",
       "    }\n",
       "</style>\n",
       "<table border=\"1\" class=\"dataframe\">\n",
       "  <thead>\n",
       "    <tr style=\"text-align: right;\">\n",
       "      <th></th>\n",
       "      <th>Estado</th>\n",
       "      <th>Condado</th>\n",
       "      <th>CASOS</th>\n",
       "      <th>MUERTES</th>\n",
       "      <th>MORTALIDAD</th>\n",
       "    </tr>\n",
       "  </thead>\n",
       "  <tbody>\n",
       "    <tr>\n",
       "      <th>0</th>\n",
       "      <td>Alabama</td>\n",
       "      <td>Autauga</td>\n",
       "      <td>48</td>\n",
       "      <td>3</td>\n",
       "      <td>0.062500</td>\n",
       "    </tr>\n",
       "    <tr>\n",
       "      <th>1</th>\n",
       "      <td>Alabama</td>\n",
       "      <td>Baldwin</td>\n",
       "      <td>187</td>\n",
       "      <td>4</td>\n",
       "      <td>0.021390</td>\n",
       "    </tr>\n",
       "    <tr>\n",
       "      <th>2</th>\n",
       "      <td>Alabama</td>\n",
       "      <td>Barbour</td>\n",
       "      <td>45</td>\n",
       "      <td>1</td>\n",
       "      <td>0.022222</td>\n",
       "    </tr>\n",
       "    <tr>\n",
       "      <th>3</th>\n",
       "      <td>Alabama</td>\n",
       "      <td>Bibb</td>\n",
       "      <td>43</td>\n",
       "      <td>0</td>\n",
       "      <td>0.000000</td>\n",
       "    </tr>\n",
       "    <tr>\n",
       "      <th>4</th>\n",
       "      <td>Alabama</td>\n",
       "      <td>Blount</td>\n",
       "      <td>40</td>\n",
       "      <td>0</td>\n",
       "      <td>0.000000</td>\n",
       "    </tr>\n",
       "  </tbody>\n",
       "</table>\n",
       "</div>"
      ],
      "text/plain": [
       "    Estado  Condado  CASOS  MUERTES  MORTALIDAD\n",
       "0  Alabama  Autauga     48        3    0.062500\n",
       "1  Alabama  Baldwin    187        4    0.021390\n",
       "2  Alabama  Barbour     45        1    0.022222\n",
       "3  Alabama     Bibb     43        0    0.000000\n",
       "4  Alabama   Blount     40        0    0.000000"
      ]
     },
     "execution_count": 79,
     "metadata": {},
     "output_type": "execute_result"
    }
   ],
   "source": [
    "COV['MORTALIDAD'] = COV['MUERTES']/COV['CASOS']\n",
    "COV.head()\n",
    "COV = COV.reset_index()\n",
    "COV.head()"
   ]
  },
  {
   "cell_type": "markdown",
   "metadata": {},
   "source": [
    "# Lectura de datos de PM2.5\n",
    "Fuente: EPA\n",
    "#### ESTE ES EL PASO  MAS LARGO"
   ]
  },
  {
   "cell_type": "code",
   "execution_count": 80,
   "metadata": {},
   "outputs": [
    {
     "data": {
      "text/html": [
       "<div>\n",
       "<style scoped>\n",
       "    .dataframe tbody tr th:only-of-type {\n",
       "        vertical-align: middle;\n",
       "    }\n",
       "\n",
       "    .dataframe tbody tr th {\n",
       "        vertical-align: top;\n",
       "    }\n",
       "\n",
       "    .dataframe thead th {\n",
       "        text-align: right;\n",
       "    }\n",
       "</style>\n",
       "<table border=\"1\" class=\"dataframe\">\n",
       "  <thead>\n",
       "    <tr style=\"text-align: right;\">\n",
       "      <th></th>\n",
       "      <th>STATE</th>\n",
       "      <th>COUNTY</th>\n",
       "      <th>Mes</th>\n",
       "      <th>Promedio mensual</th>\n",
       "    </tr>\n",
       "  </thead>\n",
       "  <tbody>\n",
       "    <tr>\n",
       "      <th>0</th>\n",
       "      <td>New York</td>\n",
       "      <td>Albany</td>\n",
       "      <td>1</td>\n",
       "      <td>8.954545</td>\n",
       "    </tr>\n",
       "    <tr>\n",
       "      <th>1</th>\n",
       "      <td>New York</td>\n",
       "      <td>Albany</td>\n",
       "      <td>2</td>\n",
       "      <td>9.342308</td>\n",
       "    </tr>\n",
       "    <tr>\n",
       "      <th>2</th>\n",
       "      <td>New York</td>\n",
       "      <td>Albany</td>\n",
       "      <td>3</td>\n",
       "      <td>6.383333</td>\n",
       "    </tr>\n",
       "    <tr>\n",
       "      <th>3</th>\n",
       "      <td>New York</td>\n",
       "      <td>Bronx</td>\n",
       "      <td>1</td>\n",
       "      <td>9.135789</td>\n",
       "    </tr>\n",
       "    <tr>\n",
       "      <th>4</th>\n",
       "      <td>New York</td>\n",
       "      <td>Erie</td>\n",
       "      <td>1</td>\n",
       "      <td>7.992771</td>\n",
       "    </tr>\n",
       "  </tbody>\n",
       "</table>\n",
       "</div>"
      ],
      "text/plain": [
       "      STATE  COUNTY  Mes  Promedio mensual\n",
       "0  New York  Albany    1          8.954545\n",
       "1  New York  Albany    2          9.342308\n",
       "2  New York  Albany    3          6.383333\n",
       "3  New York   Bronx    1          9.135789\n",
       "4  New York    Erie    1          7.992771"
      ]
     },
     "execution_count": 80,
     "metadata": {},
     "output_type": "execute_result"
    }
   ],
   "source": [
    "Directorio = 'DatosPM2.5/'\n",
    "almacenarVar = False\n",
    "\n",
    "# Lectura de primer archivo csv \n",
    "PM25 = (pd.read_csv(Directorio+'ad_viz_plotval_data.csv')\n",
    "                                   .set_index(['STATE','COUNTY'])[['Date','Daily Mean PM2.5 Concentration']]\n",
    "                                   .apply(lambda df : pd.Series({'Mes': int(df['Date'][0:2]),'Date':df.Date,'Promedio mensual':df['Daily Mean PM2.5 Concentration']}),axis = 1)\n",
    "                                   .groupby(['STATE','COUNTY','Mes'])\n",
    "                                   .mean())\n",
    "\n",
    "for i in range(50):\n",
    "    #Lectura para datos promedios mensuales para cada condado\n",
    "    PMC = (pd.read_csv(Directorio+'ad_viz_plotval_data ('+str(i+1)+').csv')\n",
    "                                   .set_index(['STATE','COUNTY'])[['Date','Daily Mean PM2.5 Concentration']]\n",
    "                                   .apply(lambda df : pd.Series({'Mes': int(df['Date'][0:2]),'Date':df.Date,'Promedio mensual':df['Daily Mean PM2.5 Concentration']}),axis = 1)\n",
    "                                   .groupby(['STATE','COUNTY','Mes'])\n",
    "                                   .mean())\n",
    "    \n",
    "    # Paso opcional por si se quiere almacenar en variables diferentes cada información por estado\n",
    "    if almacenarVar:\n",
    "        estado = str(PMC.index[0][0])\n",
    "        estado = estado.split()\n",
    "        if len(estado)>1:\n",
    "            estado = [estado[0]+'_'+estado[1]]\n",
    "        estado = estado[0]\n",
    "        globals()['PM_%s'%estado]=PMC\n",
    "    \n",
    "    PM25 = PM25.append(PMC)\n",
    "    \n",
    "PM25 = PM25.reset_index()\n",
    "PM25.head()"
   ]
  },
  {
   "cell_type": "markdown",
   "metadata": {},
   "source": [
    "# Unión de datos de COVID y PM2.5"
   ]
  },
  {
   "cell_type": "code",
   "execution_count": 92,
   "metadata": {},
   "outputs": [
    {
     "name": "stdout",
     "output_type": "stream",
     "text": [
      "Cantidad de observaciones = 1701\n"
     ]
    }
   ],
   "source": [
    "COVyPM25 = pd.merge(COV, PM25, how='inner', left_on=['Estado','Condado'], right_on=['STATE', 'COUNTY']).set_index(['Estado','Condado']).drop(['STATE','COUNTY'], axis=1)\n",
    "COVyPM25[np.isnan(COVyPM25['MORTALIDAD'])]=0 #Reemplazo valores en donde no hay ni casos ni muertes como mortalidad = 0\n",
    "COVyPM25.head()\n",
    "print('Cantidad de observaciones =',len(COVyPM25))"
   ]
  },
  {
   "cell_type": "markdown",
   "metadata": {},
   "source": [
    "# Obtencion de matrices de correlacion"
   ]
  },
  {
   "cell_type": "code",
   "execution_count": 95,
   "metadata": {},
   "outputs": [
    {
     "data": {
      "text/plain": [
       "<matplotlib.axes._subplots.AxesSubplot at 0x26c886877c8>"
      ]
     },
     "execution_count": 95,
     "metadata": {},
     "output_type": "execute_result"
    },
    {
     "data": {
      "image/png": "[encoded data removed]",
      "text/plain": [
       "<Figure size 1800x432 with 6 Axes>"
      ]
     },
     "metadata": {
      "needs_background": "light"
     },
     "output_type": "display_data"
    },
    {
     "data": {
      "image/png": "[encoded data removed]",
      "text/plain": [
       "<Figure size 576x432 with 2 Axes>"
      ]
     },
     "metadata": {
      "needs_background": "light"
     },
     "output_type": "display_data"
    }
   ],
   "source": [
    "plt.figure(figsize=(25,6))\n",
    "\n",
    "plt.subplot(1,3,1)\n",
    "# Obtencion R Pearson y P-Value\n",
    "R, PVal = scipy.stats.pearsonr(COVyPM25[COVyPM25.Mes == 1]['MORTALIDAD'],COVyPM25[COVyPM25.Mes == 1]['Promedio mensual']) \n",
    "sns.heatmap(COVyPM25[COVyPM25.Mes == 1].corr(), cmap = 'jet',center=0)\n",
    "plt.title('Concentraciones en Enero R= '+str(round(R,4))+' $P_{Value}$= '+str(round(PVal,4)))\n",
    "\n",
    "plt.subplot(1,3,2)\n",
    "# Obtencion R Pearson y P-Value\n",
    "R, PVal = scipy.stats.pearsonr(COVyPM25[COVyPM25.Mes == 2]['MORTALIDAD'],COVyPM25[COVyPM25.Mes == 2]['Promedio mensual']) \n",
    "sns.heatmap(COVyPM25[COVyPM25.Mes == 2].corr(), cmap = 'jet',center=0)\n",
    "plt.title('Concentraciones en Febrero R= '+str(round(R,4))+' $P_{Value}$= '+str(round(PVal,4)))\n",
    "\n",
    "plt.subplot(1,3,3)\n",
    "# Obtencion R Pearson y P-Value\n",
    "R, PVal = scipy.stats.pearsonr(COVyPM25[COVyPM25.Mes == 3]['MORTALIDAD'],COVyPM25[COVyPM25.Mes == 3]['Promedio mensual']) \n",
    "sns.heatmap(COVyPM25[COVyPM25.Mes == 3].corr(), cmap = 'jet',center=0)\n",
    "plt.title('Concentraciones en Febrero R= '+str(round(R,4))+' $P_{Value}$= '+str(round(PVal,4)))\n",
    "\n",
    "plt.figure(figsize=(8,6))\n",
    "R, PVal = scipy.stats.pearsonr(COVyPM25['MORTALIDAD'],COVyPM25['Promedio mensual']) \n",
    "plt.title('Correlacion con concentraciones en los 3 meses R='+str(round(R,4))+' y $P_{Value}$=' + str(round(PVal,4)))\n",
    "sns.heatmap(COVyPM25.corr(), cmap = 'jet',center=0)"
   ]
  },
  {
   "cell_type": "code",
   "execution_count": null,
   "metadata": {},
   "outputs": [],
   "source": []
  }
 ],
 "metadata": {
  "kernelspec": {
   "display_name": "Python 3",
   "language": "python",
   "name": "python3"
  },
  "language_info": {
   "codemirror_mode": {
    "name": "ipython",
    "version": 3
   },
   "file_extension": ".py",
   "mimetype": "text/x-python",
   "name": "python",
   "nbconvert_exporter": "python",
   "pygments_lexer": "ipython3",
   "version": "3.7.6"
  }
 },
 "nbformat": 4,
 "nbformat_minor": 4
}
